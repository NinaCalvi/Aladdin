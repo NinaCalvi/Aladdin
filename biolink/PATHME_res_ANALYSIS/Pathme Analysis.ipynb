{
 "cells": [
  {
   "cell_type": "code",
   "execution_count": 1,
   "metadata": {},
   "outputs": [],
   "source": [
    "import pandas as pd\n",
    "import seaborn as sns\n",
    "import matplotlib.pyplot as plt\n",
    "import json\n",
    "import numpy as np"
   ]
  },
  {
   "cell_type": "code",
   "execution_count": 2,
   "metadata": {},
   "outputs": [],
   "source": [
    "import matplotlib\n",
    "matplotlib.rc('xtick', labelsize=20) \n",
    "matplotlib.rc('ytick', labelsize=20)\n",
    "matplotlib.rc('font', size=20)"
   ]
  },
  {
   "cell_type": "markdown",
   "metadata": {},
   "source": [
    "## Find common relationships"
   ]
  },
  {
   "cell_type": "code",
   "execution_count": 3,
   "metadata": {},
   "outputs": [],
   "source": [
    "dataset_path = '/Users/nina/Documents/UCL/PATHME_DATA'\n",
    "amie_path = 'res_by_rel_pathme.txt'\n",
    "ce_tuck_path = 'tucker_pathme_RELATION.csv'\n",
    "bce_tuck_path = 'tucker_pathme_BCE_RELATION.csv'\n",
    "ce_cp_path = 'cplex_PATHME_realtion.csv'\n",
    "bce_cp_path = 'cplex_bce_PATHME_realtion.csv'\n",
    "cbr_path = 'per_relation_scores.json'\n",
    "###############ENTTIES PATHS############\n",
    "ce_cp_ent_path = 'pathme_cplex_RELATION.out'\n",
    "bce_cp_ent_path = 'pathme_cplex_BCE_RELATION.out'\n",
    "ce_t_ent_path = 'save_pathme_tucker.out'\n",
    "bce_t_ent_path = 'save_pathme_BCE_tucker.out'"
   ]
  },
  {
   "cell_type": "code",
   "execution_count": 4,
   "metadata": {},
   "outputs": [],
   "source": [
    "##NEGSAMPLINGRELS\n",
    "ph_cp_path = 'cplexPH_PATHME_relation.csv'\n",
    "ph_tu_path = 'tuckerPH_PATHME_relation.csv' \n",
    "pw_cp_path = 'cplexPW_PATHME_relation.csv'\n",
    "pw_tu_path = 'tuckerPW_PATHME_relation.csv'\n",
    "####ENTITIESPATH#####\n",
    "ph_cp_path_ent = 'pathme_cplex_PH_RELATION.out'\n",
    "pw_cp_path_ent = 'pathme_cplex_PW_RELATION.out'\n",
    "ph_tu_path_ent = 'pathme_tuck_PH_RELATION.out'\n",
    "pw_tu_path_ent = 'pathme_tuck_PW_RELATION.out'"
   ]
  },
  {
   "cell_type": "code",
   "execution_count": 5,
   "metadata": {},
   "outputs": [
    {
     "name": "stderr",
     "output_type": "stream",
     "text": [
      "/Users/nina/opt/anaconda3/envs/libkge/lib/python3.7/site-packages/tensorflow/python/framework/dtypes.py:526: FutureWarning: Passing (type, 1) or '1type' as a synonym of type is deprecated; in a future version of numpy, it will be understood as (type, (1,)) / '(1,)type'.\n",
      "  _np_qint8 = np.dtype([(\"qint8\", np.int8, 1)])\n",
      "/Users/nina/opt/anaconda3/envs/libkge/lib/python3.7/site-packages/tensorflow/python/framework/dtypes.py:527: FutureWarning: Passing (type, 1) or '1type' as a synonym of type is deprecated; in a future version of numpy, it will be understood as (type, (1,)) / '(1,)type'.\n",
      "  _np_quint8 = np.dtype([(\"quint8\", np.uint8, 1)])\n",
      "/Users/nina/opt/anaconda3/envs/libkge/lib/python3.7/site-packages/tensorflow/python/framework/dtypes.py:528: FutureWarning: Passing (type, 1) or '1type' as a synonym of type is deprecated; in a future version of numpy, it will be understood as (type, (1,)) / '(1,)type'.\n",
      "  _np_qint16 = np.dtype([(\"qint16\", np.int16, 1)])\n",
      "/Users/nina/opt/anaconda3/envs/libkge/lib/python3.7/site-packages/tensorflow/python/framework/dtypes.py:529: FutureWarning: Passing (type, 1) or '1type' as a synonym of type is deprecated; in a future version of numpy, it will be understood as (type, (1,)) / '(1,)type'.\n",
      "  _np_quint16 = np.dtype([(\"quint16\", np.uint16, 1)])\n",
      "/Users/nina/opt/anaconda3/envs/libkge/lib/python3.7/site-packages/tensorflow/python/framework/dtypes.py:530: FutureWarning: Passing (type, 1) or '1type' as a synonym of type is deprecated; in a future version of numpy, it will be understood as (type, (1,)) / '(1,)type'.\n",
      "  _np_qint32 = np.dtype([(\"qint32\", np.int32, 1)])\n",
      "/Users/nina/opt/anaconda3/envs/libkge/lib/python3.7/site-packages/tensorflow/python/framework/dtypes.py:535: FutureWarning: Passing (type, 1) or '1type' as a synonym of type is deprecated; in a future version of numpy, it will be understood as (type, (1,)) / '(1,)type'.\n",
      "  np_resource = np.dtype([(\"resource\", np.ubyte, 1)])\n"
     ]
    }
   ],
   "source": [
    "from libkge import datasets\n",
    "d = datasets.load_dataset_from_dir(dataset_path)"
   ]
  },
  {
   "cell_type": "code",
   "execution_count": 52,
   "metadata": {},
   "outputs": [],
   "source": [
    "train_data = pd.DataFrame(d.data['train'])\n",
    "relation_count = train_data[1].value_counts()"
   ]
  },
  {
   "cell_type": "code",
   "execution_count": 53,
   "metadata": {},
   "outputs": [
    {
     "data": {
      "text/plain": [
       "1    21020\n",
       "0    16863\n",
       "2     5511\n",
       "4     2869\n",
       "3     1561\n",
       "6     1212\n",
       "5     1212\n",
       "Name: 1, dtype: int64"
      ]
     },
     "execution_count": 53,
     "metadata": {},
     "output_type": "execute_result"
    }
   ],
   "source": [
    "relation_count"
   ]
  },
  {
   "cell_type": "code",
   "execution_count": null,
   "metadata": {},
   "outputs": [],
   "source": []
  },
  {
   "cell_type": "code",
   "execution_count": 105,
   "metadata": {},
   "outputs": [],
   "source": [
    "def plot_all_rels(dfs, labels, rule_based=False, save=None):\n",
    "    concat = [] \n",
    "    \n",
    "    palette = {'CE Complex': 'blue',\n",
    "                  'BCE Complex': 'royalblue',\n",
    "                  'PH Complex': 'skyblue',\n",
    "                   'PW-Log Complex': 'dodgerblue',\n",
    "                  'CE Tucker': 'indianred',\n",
    "                  'BCE Tucker': 'salmon', \n",
    "                  'PW-Log Tucker': 'sandybrown',\n",
    "                  'PH Tucker': 'peru', \n",
    "                  'AMIE': 'mediumpurple',\n",
    "                  'CBR': 'plum'}\n",
    "    \n",
    "    for i,df in enumerate(dfs):\n",
    "\n",
    "    #         if mean:\n",
    "    #             d = df.groupby(groupby_l)[[get, 'rel_occurrence']].apply(lambda x: weighted_av(x, mrr)).reset_index(name=get)\n",
    "    # #             d = df.groupby(groupby_l)['h@10'].mean().reset_index()\n",
    "    #         else:\n",
    "    #             d = df.groupby(groupby_l)[get].sum().reset_index()\n",
    "        if len(labels) > 0:\n",
    "            df = df.sort_values(by = 'rel_occurrence', axis=0)\n",
    "            df['rel_name'] = df['Relation'].apply(lambda x: d.rel_mappings.inverse[x])\n",
    "            if rule_based:\n",
    "                df['label'] = labels[i]\n",
    "            else:\n",
    "                loss, mod = labels[i].split(' ')\n",
    "                df['label_model'] = mod\n",
    "                df['label_loss'] = loss\n",
    "            df['color'] = labels[i]\n",
    "        concat.append(df)\n",
    "\n",
    "    conc = pd.concat(concat)\n",
    "    \n",
    "    f = plt.figure(figsize=(50,15))\n",
    "    if rule_based:\n",
    "        g = sns.FacetGrid(conc, row=\"label\", aspect=3, height=4, hue='color', palette=palette)\n",
    "    else:\n",
    "\n",
    "        g = sns.FacetGrid(conc, row=\"label_loss\", col=\"label_model\", margin_titles=True, aspect=6, height=3, hue='color', palette=palette)\n",
    "        \n",
    "    g.map(sns.barplot, 'rel_name', 'h@1')\n",
    "#     g.set(xlabel='Relation')\n",
    "    g.set_xticklabels(rotation=40, horizontalalignment='right', fontweight='light',)\n",
    "    \n",
    "    if not rule_based:\n",
    "        axes = g.axes.flatten()\n",
    "        axes[0].set_title(\"Complex\")\n",
    "        axes[-1].set_xlabel(\"Relation\")\n",
    "        axes[1].set_title(\"Tucker\")\n",
    "        axes[-2].set_xlabel(\"Relation\")\n",
    "    \n",
    "\n",
    "        for ax in axes:\n",
    "            # Make right ylabel more human-readable and larger\n",
    "        # Only the 2nd and 4th axes have something in ax.texts\n",
    "            if ax.texts:\n",
    "                # This contains the right ylabel text\n",
    "                txt = ax.texts[0]\n",
    "                ax.text(txt.get_unitless_position()[0], txt.get_unitless_position()[1],\n",
    "                        txt.get_text().split('=')[1],\n",
    "                        transform=ax.transAxes,\n",
    "                        va='center',)\n",
    "                # Remove the original text\n",
    "                ax.texts[0].remove()\n",
    "    else:\n",
    "        axes = g.axes.flatten()\n",
    "        axes[0].set_title(\"AMIE\")\n",
    "        axes[1].set_title(\"CBR\")\n",
    "\n",
    "    plt.xlabel('Relation')\n",
    "#     plt.xticks(rotation=-15)\n",
    "    plt.tight_layout()\n",
    "    if save is not None:\n",
    "        g.savefig(save + '.svg', format='svg', dpi=1200)"
   ]
  },
  {
   "cell_type": "markdown",
   "metadata": {},
   "source": [
    "## Relation analysis"
   ]
  },
  {
   "cell_type": "code",
   "execution_count": 55,
   "metadata": {},
   "outputs": [],
   "source": [
    "ce_tuck = pd.read_csv(ce_tuck_path)\n",
    "bce_tuck = pd.read_csv(bce_tuck_path)\n",
    "bce_cp = pd.read_csv(bce_cp_path)\n",
    "ce_cp = pd.read_csv(ce_cp_path)\n",
    "amie_res_rel = pd.read_csv(amie_path, sep='\\t', header=None)\n",
    "with open(cbr_path, 'r') as f:\n",
    "    cbr = json.load(f)"
   ]
  },
  {
   "cell_type": "code",
   "execution_count": 56,
   "metadata": {},
   "outputs": [],
   "source": [
    "ph_tuck = pd.read_csv(ph_tu_path)\n",
    "pw_tuck = pd.read_csv(pw_tu_path)\n",
    "pw_cp = pd.read_csv(pw_cp_path)\n",
    "ph_cp = pd.read_csv(ph_cp_path)"
   ]
  },
  {
   "cell_type": "code",
   "execution_count": 57,
   "metadata": {},
   "outputs": [],
   "source": [
    "amie_res_rel[0] = amie_res_rel[0].apply(lambda x: d.rel_mappings[x])\n",
    "amie_res_rel.drop(columns=[1,2,3,4,5,6], inplace=True)\n",
    "amie_res_rel.columns = ['Relation', 'h@10', 'h@1', 'MRR']\n",
    "amie_res_rel['h@10'] = amie_res_rel['h@10'].apply(lambda x: x/100)"
   ]
  },
  {
   "cell_type": "code",
   "execution_count": 58,
   "metadata": {},
   "outputs": [],
   "source": [
    "cbr = pd.DataFrame(cbr).T.reset_index()\n",
    "cbr.rename(columns={'index': 'Relation'}, inplace=True)\n",
    "cbr['Relation'] = cbr['Relation'].apply(lambda x: d.rel_mappings[x])"
   ]
  },
  {
   "cell_type": "code",
   "execution_count": 59,
   "metadata": {},
   "outputs": [],
   "source": [
    "cbr.rename(columns={'hits_10': 'h@10', 'mrr': 'MRR'}, inplace=True)"
   ]
  },
  {
   "cell_type": "code",
   "execution_count": 60,
   "metadata": {},
   "outputs": [],
   "source": [
    "def set_occurrence(df):\n",
    "    df['rel_occurrence'] =  df['Relation'].apply(lambda x: relation_count[x])\n",
    "set_occurrence(bce_cp)\n",
    "set_occurrence(ce_cp)\n",
    "set_occurrence(ce_tuck)\n",
    "set_occurrence(bce_tuck)\n",
    "set_occurrence(cbr)\n",
    "set_occurrence(amie_res_rel)"
   ]
  },
  {
   "cell_type": "code",
   "execution_count": 61,
   "metadata": {},
   "outputs": [],
   "source": [
    "set_occurrence(ph_tuck)\n",
    "set_occurrence(pw_tuck)\n",
    "set_occurrence(pw_cp)\n",
    "set_occurrence(ph_cp)"
   ]
  },
  {
   "cell_type": "code",
   "execution_count": 82,
   "metadata": {},
   "outputs": [
    {
     "data": {
      "text/html": [
       "<div>\n",
       "<style scoped>\n",
       "    .dataframe tbody tr th:only-of-type {\n",
       "        vertical-align: middle;\n",
       "    }\n",
       "\n",
       "    .dataframe tbody tr th {\n",
       "        vertical-align: top;\n",
       "    }\n",
       "\n",
       "    .dataframe thead th {\n",
       "        text-align: right;\n",
       "    }\n",
       "</style>\n",
       "<table border=\"1\" class=\"dataframe\">\n",
       "  <thead>\n",
       "    <tr style=\"text-align: right;\">\n",
       "      <th></th>\n",
       "      <th>Relation</th>\n",
       "      <th>MRR</th>\n",
       "      <th>h@1</th>\n",
       "      <th>h@3</th>\n",
       "      <th>h@10</th>\n",
       "      <th>rel_occurrence</th>\n",
       "    </tr>\n",
       "  </thead>\n",
       "  <tbody>\n",
       "    <tr>\n",
       "      <th>0</th>\n",
       "      <td>1</td>\n",
       "      <td>0.341282</td>\n",
       "      <td>0.177646</td>\n",
       "      <td>0.393108</td>\n",
       "      <td>0.743672</td>\n",
       "      <td>21020</td>\n",
       "    </tr>\n",
       "    <tr>\n",
       "      <th>1</th>\n",
       "      <td>4</td>\n",
       "      <td>0.424263</td>\n",
       "      <td>0.350275</td>\n",
       "      <td>0.456044</td>\n",
       "      <td>0.574176</td>\n",
       "      <td>2869</td>\n",
       "    </tr>\n",
       "    <tr>\n",
       "      <th>2</th>\n",
       "      <td>2</td>\n",
       "      <td>0.699811</td>\n",
       "      <td>0.631766</td>\n",
       "      <td>0.752849</td>\n",
       "      <td>0.807692</td>\n",
       "      <td>5511</td>\n",
       "    </tr>\n",
       "    <tr>\n",
       "      <th>3</th>\n",
       "      <td>0</td>\n",
       "      <td>0.514742</td>\n",
       "      <td>0.383821</td>\n",
       "      <td>0.599136</td>\n",
       "      <td>0.777244</td>\n",
       "      <td>16863</td>\n",
       "    </tr>\n",
       "    <tr>\n",
       "      <th>4</th>\n",
       "      <td>6</td>\n",
       "      <td>0.331059</td>\n",
       "      <td>0.239583</td>\n",
       "      <td>0.388021</td>\n",
       "      <td>0.481771</td>\n",
       "      <td>1212</td>\n",
       "    </tr>\n",
       "    <tr>\n",
       "      <th>5</th>\n",
       "      <td>3</td>\n",
       "      <td>0.624681</td>\n",
       "      <td>0.537634</td>\n",
       "      <td>0.688172</td>\n",
       "      <td>0.779570</td>\n",
       "      <td>1561</td>\n",
       "    </tr>\n",
       "    <tr>\n",
       "      <th>6</th>\n",
       "      <td>5</td>\n",
       "      <td>0.332389</td>\n",
       "      <td>0.251232</td>\n",
       "      <td>0.376847</td>\n",
       "      <td>0.495074</td>\n",
       "      <td>1212</td>\n",
       "    </tr>\n",
       "  </tbody>\n",
       "</table>\n",
       "</div>"
      ],
      "text/plain": [
       "   Relation       MRR       h@1       h@3      h@10  rel_occurrence\n",
       "0         1  0.341282  0.177646  0.393108  0.743672           21020\n",
       "1         4  0.424263  0.350275  0.456044  0.574176            2869\n",
       "2         2  0.699811  0.631766  0.752849  0.807692            5511\n",
       "3         0  0.514742  0.383821  0.599136  0.777244           16863\n",
       "4         6  0.331059  0.239583  0.388021  0.481771            1212\n",
       "5         3  0.624681  0.537634  0.688172  0.779570            1561\n",
       "6         5  0.332389  0.251232  0.376847  0.495074            1212"
      ]
     },
     "execution_count": 82,
     "metadata": {},
     "output_type": "execute_result"
    }
   ],
   "source": [
    "ce_cp"
   ]
  },
  {
   "cell_type": "code",
   "execution_count": 106,
   "metadata": {},
   "outputs": [
    {
     "data": {
      "text/plain": [
       "<Figure size 3600x1080 with 0 Axes>"
      ]
     },
     "metadata": {},
     "output_type": "display_data"
    },
    {
     "data": {
      "image/png": "[encoded data removed]",
      "text/plain": [
       "<Figure size 2592x864 with 8 Axes>"
      ]
     },
     "metadata": {
      "needs_background": "light"
     },
     "output_type": "display_data"
    }
   ],
   "source": [
    "dfs = [ce_cp, bce_cp, pw_cp, ph_cp, ce_tuck, bce_tuck, pw_tuck, ph_tuck]\n",
    "labels = [ 'CE Complex', 'BCE Complex',  'PW-Log Complex', 'PH Complex', 'CE Tucker', 'BCE Tucker', \\\n",
    "          'PW-Log Tucker', 'PH Tucker']\n",
    "plot_all_rels(dfs, labels, save='pathme_rels_h1')"
   ]
  },
  {
   "cell_type": "code",
   "execution_count": 80,
   "metadata": {},
   "outputs": [],
   "source": [
    "matplotlib.rc('xtick', labelsize=20) \n",
    "matplotlib.rc('ytick', labelsize=20)\n",
    "matplotlib.rc('font', size=20)"
   ]
  },
  {
   "cell_type": "code",
   "execution_count": 67,
   "metadata": {},
   "outputs": [
    {
     "data": {
      "text/plain": [
       "'protein_association_drug'"
      ]
     },
     "execution_count": 67,
     "metadata": {},
     "output_type": "execute_result"
    }
   ],
   "source": [
    "d.rel_mappings.inverse[6]"
   ]
  },
  {
   "cell_type": "code",
   "execution_count": 68,
   "metadata": {},
   "outputs": [
    {
     "data": {
      "text/html": [
       "<div>\n",
       "<style scoped>\n",
       "    .dataframe tbody tr th:only-of-type {\n",
       "        vertical-align: middle;\n",
       "    }\n",
       "\n",
       "    .dataframe tbody tr th {\n",
       "        vertical-align: top;\n",
       "    }\n",
       "\n",
       "    .dataframe thead th {\n",
       "        text-align: right;\n",
       "    }\n",
       "</style>\n",
       "<table border=\"1\" class=\"dataframe\">\n",
       "  <thead>\n",
       "    <tr style=\"text-align: right;\">\n",
       "      <th></th>\n",
       "      <th>Relation</th>\n",
       "      <th>h@10</th>\n",
       "      <th>h@1</th>\n",
       "      <th>MRR</th>\n",
       "      <th>rel_occurrence</th>\n",
       "    </tr>\n",
       "  </thead>\n",
       "  <tbody>\n",
       "    <tr>\n",
       "      <th>0</th>\n",
       "      <td>0</td>\n",
       "      <td>0.0269</td>\n",
       "      <td>2.69</td>\n",
       "      <td>inf</td>\n",
       "      <td>16863</td>\n",
       "    </tr>\n",
       "    <tr>\n",
       "      <th>1</th>\n",
       "      <td>1</td>\n",
       "      <td>0.7176</td>\n",
       "      <td>71.76</td>\n",
       "      <td>inf</td>\n",
       "      <td>21020</td>\n",
       "    </tr>\n",
       "    <tr>\n",
       "      <th>2</th>\n",
       "      <td>2</td>\n",
       "      <td>0.3960</td>\n",
       "      <td>35.68</td>\n",
       "      <td>inf</td>\n",
       "      <td>5511</td>\n",
       "    </tr>\n",
       "    <tr>\n",
       "      <th>3</th>\n",
       "      <td>3</td>\n",
       "      <td>0.3656</td>\n",
       "      <td>29.03</td>\n",
       "      <td>inf</td>\n",
       "      <td>1561</td>\n",
       "    </tr>\n",
       "    <tr>\n",
       "      <th>4</th>\n",
       "      <td>4</td>\n",
       "      <td>0.0577</td>\n",
       "      <td>4.95</td>\n",
       "      <td>inf</td>\n",
       "      <td>2869</td>\n",
       "    </tr>\n",
       "  </tbody>\n",
       "</table>\n",
       "</div>"
      ],
      "text/plain": [
       "   Relation    h@10    h@1  MRR  rel_occurrence\n",
       "0         0  0.0269   2.69  inf           16863\n",
       "1         1  0.7176  71.76  inf           21020\n",
       "2         2  0.3960  35.68  inf            5511\n",
       "3         3  0.3656  29.03  inf            1561\n",
       "4         4  0.0577   4.95  inf            2869"
      ]
     },
     "execution_count": 68,
     "metadata": {},
     "output_type": "execute_result"
    }
   ],
   "source": [
    "amie_res_rel.head()"
   ]
  },
  {
   "cell_type": "code",
   "execution_count": 75,
   "metadata": {},
   "outputs": [],
   "source": [
    "amie_res_rel.loc[amie_res_rel['Relation'] == 6, 'rel_occurrence'] = 1210"
   ]
  },
  {
   "cell_type": "code",
   "execution_count": 87,
   "metadata": {},
   "outputs": [],
   "source": [
    "cbr.rename(columns={'hits_1': 'h@1'}, inplace=True)"
   ]
  },
  {
   "cell_type": "code",
   "execution_count": 77,
   "metadata": {},
   "outputs": [],
   "source": [
    "cbr.loc[cbr['Relation'] == 6, 'rel_occurrence'] = 1210"
   ]
  },
  {
   "cell_type": "code",
   "execution_count": 91,
   "metadata": {},
   "outputs": [],
   "source": [
    "amie_res_rel['h@1'] = amie_res_rel['h@1'].apply(lambda x: x/100)"
   ]
  },
  {
   "cell_type": "code",
   "execution_count": 89,
   "metadata": {},
   "outputs": [
    {
     "data": {
      "text/html": [
       "<div>\n",
       "<style scoped>\n",
       "    .dataframe tbody tr th:only-of-type {\n",
       "        vertical-align: middle;\n",
       "    }\n",
       "\n",
       "    .dataframe tbody tr th {\n",
       "        vertical-align: top;\n",
       "    }\n",
       "\n",
       "    .dataframe thead th {\n",
       "        text-align: right;\n",
       "    }\n",
       "</style>\n",
       "<table border=\"1\" class=\"dataframe\">\n",
       "  <thead>\n",
       "    <tr style=\"text-align: right;\">\n",
       "      <th></th>\n",
       "      <th>Relation</th>\n",
       "      <th>h@1</th>\n",
       "      <th>h@10</th>\n",
       "      <th>hits_3</th>\n",
       "      <th>hits_5</th>\n",
       "      <th>MRR</th>\n",
       "      <th>rel_occurrence</th>\n",
       "    </tr>\n",
       "  </thead>\n",
       "  <tbody>\n",
       "    <tr>\n",
       "      <th>0</th>\n",
       "      <td>1</td>\n",
       "      <td>0.122780</td>\n",
       "      <td>0.573076</td>\n",
       "      <td>0.274229</td>\n",
       "      <td>0.381739</td>\n",
       "      <td>0.252051</td>\n",
       "      <td>21020</td>\n",
       "    </tr>\n",
       "    <tr>\n",
       "      <th>1</th>\n",
       "      <td>2</td>\n",
       "      <td>0.162162</td>\n",
       "      <td>0.385886</td>\n",
       "      <td>0.243243</td>\n",
       "      <td>0.295796</td>\n",
       "      <td>0.232896</td>\n",
       "      <td>5511</td>\n",
       "    </tr>\n",
       "    <tr>\n",
       "      <th>2</th>\n",
       "      <td>5</td>\n",
       "      <td>0.092896</td>\n",
       "      <td>0.338798</td>\n",
       "      <td>0.229508</td>\n",
       "      <td>0.267760</td>\n",
       "      <td>0.176904</td>\n",
       "      <td>1212</td>\n",
       "    </tr>\n",
       "    <tr>\n",
       "      <th>3</th>\n",
       "      <td>4</td>\n",
       "      <td>0.093248</td>\n",
       "      <td>0.180064</td>\n",
       "      <td>0.135048</td>\n",
       "      <td>0.151125</td>\n",
       "      <td>0.127539</td>\n",
       "      <td>2869</td>\n",
       "    </tr>\n",
       "    <tr>\n",
       "      <th>4</th>\n",
       "      <td>3</td>\n",
       "      <td>0.387879</td>\n",
       "      <td>0.636364</td>\n",
       "      <td>0.496970</td>\n",
       "      <td>0.557576</td>\n",
       "      <td>0.463356</td>\n",
       "      <td>1561</td>\n",
       "    </tr>\n",
       "    <tr>\n",
       "      <th>5</th>\n",
       "      <td>0</td>\n",
       "      <td>0.059589</td>\n",
       "      <td>0.175764</td>\n",
       "      <td>0.101652</td>\n",
       "      <td>0.131698</td>\n",
       "      <td>0.098427</td>\n",
       "      <td>16863</td>\n",
       "    </tr>\n",
       "    <tr>\n",
       "      <th>6</th>\n",
       "      <td>6</td>\n",
       "      <td>0.343558</td>\n",
       "      <td>0.625767</td>\n",
       "      <td>0.539877</td>\n",
       "      <td>0.595092</td>\n",
       "      <td>0.450223</td>\n",
       "      <td>1210</td>\n",
       "    </tr>\n",
       "  </tbody>\n",
       "</table>\n",
       "</div>"
      ],
      "text/plain": [
       "   Relation       h@1      h@10    hits_3    hits_5       MRR  rel_occurrence\n",
       "0         1  0.122780  0.573076  0.274229  0.381739  0.252051           21020\n",
       "1         2  0.162162  0.385886  0.243243  0.295796  0.232896            5511\n",
       "2         5  0.092896  0.338798  0.229508  0.267760  0.176904            1212\n",
       "3         4  0.093248  0.180064  0.135048  0.151125  0.127539            2869\n",
       "4         3  0.387879  0.636364  0.496970  0.557576  0.463356            1561\n",
       "5         0  0.059589  0.175764  0.101652  0.131698  0.098427           16863\n",
       "6         6  0.343558  0.625767  0.539877  0.595092  0.450223            1210"
      ]
     },
     "execution_count": 89,
     "metadata": {},
     "output_type": "execute_result"
    }
   ],
   "source": [
    "cbr"
   ]
  },
  {
   "cell_type": "code",
   "execution_count": 92,
   "metadata": {},
   "outputs": [
    {
     "name": "stderr",
     "output_type": "stream",
     "text": [
      "/Users/nina/opt/anaconda3/envs/libkge/lib/python3.7/site-packages/seaborn/axisgrid.py:723: UserWarning: Using the barplot function without specifying `order` is likely to produce an incorrect plot.\n",
      "  warnings.warn(warning)\n"
     ]
    },
    {
     "data": {
      "text/plain": [
       "<Figure size 3600x1080 with 0 Axes>"
      ]
     },
     "metadata": {},
     "output_type": "display_data"
    },
    {
     "data": {
      "image/png": "[encoded data removed]",
      "text/plain": [
       "<Figure size 864x576 with 2 Axes>"
      ]
     },
     "metadata": {
      "needs_background": "light"
     },
     "output_type": "display_data"
    }
   ],
   "source": [
    "dfs = [amie_res_rel, cbr]\n",
    "labels = [ 'AMIE', 'CBR']\n",
    "plot_all_rels(dfs, labels, rule_based=True, save='pathme_rels_AMIECBR_c1')"
   ]
  },
  {
   "cell_type": "markdown",
   "metadata": {},
   "source": [
    "## AUC analysis"
   ]
  },
  {
   "cell_type": "code",
   "execution_count": 6,
   "metadata": {},
   "outputs": [],
   "source": [
    "ce_cp_auc_path = 'pathme_cplex_AUC.out'\n",
    "bce_cp_auc_path = 'pathme_cplex_BCE_AUC.out'\n",
    "ce_t_auc_path = 'save_pathme_tucker_AUC.out'\n",
    "bce_t_auc_path = 'save_pathme_BCE_tucker_AUC.out'\n",
    "ph_cp_path_auc = 'pathme_cplex_PH_AUC.out'\n",
    "pw_cp_path_auc = 'pathme_cplex_PW_AUC.out'\n",
    "# ph_tu_path_auc = 'ph_tuck_COVID_AUCSINGLE.out'\n",
    "pw_tu_path_auc = 'pathme_tuck_PW_AUC.out' "
   ]
  },
  {
   "cell_type": "code",
   "execution_count": 7,
   "metadata": {},
   "outputs": [],
   "source": [
    "ce_cp_auc_path_10 = 'pathme_cplex_AUC.out'\n",
    "bce_cp_auc_path_10 = 'pathme_cplex_BCE_AUC.out'\n",
    "ce_t_auc_path_10 = 'save_pathme_tucker_AUC.out'\n",
    "bce_t_auc_path_10 = 'save_pathme_BCE_tucker_AUC.out'\n",
    "ph_cp_path_auc_10 = 'pathme_cplex_PH_AUC.out'\n",
    "pw_cp_path_auc_10 = 'pathme_cplex_PW_AUC.out'\n",
    "ph_tu_path_auc_10 = 'pathme_tuck_PH_AUC.out'\n",
    "pw_tu_path_auc_10 = 'pathme_tuck_PW_AUC.out' "
   ]
  },
  {
   "cell_type": "code",
   "execution_count": 8,
   "metadata": {},
   "outputs": [],
   "source": [
    "def get_auc(path):\n",
    "    with open(path, 'r') as f:\n",
    "        res = []\n",
    "        prev_5 = False\n",
    "        prev_10 = False\n",
    "        for l in f.readlines():\n",
    "            if 'AUC FIVE' in l:\n",
    "                prev_5 = True\n",
    "                continue\n",
    "            elif 'AUC TEN' in l:\n",
    "                prev_10 = True\n",
    "                prev_5 = False\n",
    "                continue\n",
    "            elif 'AP:' in l:\n",
    "                if prev_5:\n",
    "                    prev_5 = False\n",
    "                    continue\n",
    "                elif prev_10:\n",
    "                    prev_10 = False\n",
    "                    continue\n",
    "                else:\n",
    "                    l = l.split()\n",
    "                  \n",
    "                    ap = float(l[1])\n",
    "                    auc = float(l[4])\n",
    "                    apr = float(l[7])\n",
    "                    p50 = float(l[10])\n",
    "                    rel = int(l[12])\n",
    "                    res.append([rel, ap, auc, apr, p50])\n",
    "            else:\n",
    "                prev_5 = False\n",
    "                prev_10 = False\n",
    "    \n",
    "    res = pd.DataFrame(res)\n",
    "    res.rename(columns={0: 'rel', 1: 'ap', 2: 'auc', 3:'apr', 4: 'p50'}, inplace=True)    \n",
    "    return res"
   ]
  },
  {
   "cell_type": "code",
   "execution_count": 9,
   "metadata": {},
   "outputs": [],
   "source": [
    "def get_auc_10(path):\n",
    "    with open(path, 'r') as f:\n",
    "        res = []\n",
    "        prev_5 = False\n",
    "        prev_10 = False\n",
    "        for l in f.readlines():\n",
    "            if 'AUC TEN' in l:\n",
    "                prev_10 = True\n",
    "                continue\n",
    "            if prev_10:\n",
    "                l = l.split()\n",
    "                  \n",
    "                ap = float(l[1])\n",
    "                auc = float(l[4])\n",
    "                apr = float(l[7])\n",
    "                p50 = float(l[10])\n",
    "                rel = int(l[12])\n",
    "                res.append([rel, ap, auc, apr, p50])\n",
    "                prev_10 = False\n",
    "                continue\n",
    "            else:\n",
    "                prev_10 = False\n",
    "           \n",
    "    res = pd.DataFrame(res)\n",
    "    res.rename(columns={0: 'Relation', 1: 'ap', 2: 'auc', 3:'apr', 4: 'p50'}, inplace=True)    \n",
    "    return res"
   ]
  },
  {
   "cell_type": "code",
   "execution_count": 10,
   "metadata": {},
   "outputs": [],
   "source": [
    "auc_ce_cp = get_auc(ce_cp_auc_path)\n",
    "auc_bce_cp = get_auc(bce_cp_auc_path)\n",
    "auc_ce_t = get_auc(ce_t_auc_path)\n",
    "auc_bce_t = get_auc(bce_t_auc_path)\n",
    "auc_ph_cp = get_auc(ph_cp_path_auc)\n",
    "auc_pw_cp = get_auc(pw_cp_path_auc)\n",
    "# auc_ph_t = get_auc(ph_tu_path_auc)\n",
    "auc_pw_t = get_auc(pw_tu_path_auc)"
   ]
  },
  {
   "cell_type": "code",
   "execution_count": 11,
   "metadata": {},
   "outputs": [
    {
     "data": {
      "text/plain": [
       "rel    3.000000\n",
       "ap     1.000000\n",
       "auc    0.982514\n",
       "apr    0.989329\n",
       "p50    1.000000\n",
       "dtype: float64"
      ]
     },
     "execution_count": 11,
     "metadata": {},
     "output_type": "execute_result"
    }
   ],
   "source": [
    "auc_ce_cp.mean()"
   ]
  },
  {
   "cell_type": "code",
   "execution_count": 12,
   "metadata": {},
   "outputs": [
    {
     "data": {
      "text/plain": [
       "rel    3.000000\n",
       "ap     1.000000\n",
       "auc    0.987086\n",
       "apr    0.991486\n",
       "p50    1.000000\n",
       "dtype: float64"
      ]
     },
     "execution_count": 12,
     "metadata": {},
     "output_type": "execute_result"
    }
   ],
   "source": [
    "auc_ce_t.mean()"
   ]
  },
  {
   "cell_type": "code",
   "execution_count": 13,
   "metadata": {},
   "outputs": [
    {
     "data": {
      "text/plain": [
       "rel    3.000000\n",
       "ap     1.000000\n",
       "auc    0.984500\n",
       "apr    0.989386\n",
       "p50    1.000000\n",
       "dtype: float64"
      ]
     },
     "execution_count": 13,
     "metadata": {},
     "output_type": "execute_result"
    }
   ],
   "source": [
    "auc_bce_cp.mean()"
   ]
  },
  {
   "cell_type": "code",
   "execution_count": 14,
   "metadata": {},
   "outputs": [
    {
     "data": {
      "text/plain": [
       "rel    3.000000\n",
       "ap     1.000000\n",
       "auc    0.980900\n",
       "apr    0.987286\n",
       "p50    1.000000\n",
       "dtype: float64"
      ]
     },
     "execution_count": 14,
     "metadata": {},
     "output_type": "execute_result"
    }
   ],
   "source": [
    "auc_bce_t.mean()"
   ]
  },
  {
   "cell_type": "code",
   "execution_count": 15,
   "metadata": {},
   "outputs": [
    {
     "data": {
      "text/plain": [
       "rel    3.000000\n",
       "ap     1.000000\n",
       "auc    0.982357\n",
       "apr    0.988800\n",
       "p50    1.000000\n",
       "dtype: float64"
      ]
     },
     "execution_count": 15,
     "metadata": {},
     "output_type": "execute_result"
    }
   ],
   "source": [
    "auc_ph_cp.mean()"
   ]
  },
  {
   "cell_type": "code",
   "execution_count": 16,
   "metadata": {},
   "outputs": [
    {
     "ename": "NameError",
     "evalue": "name 'auc_ph_t' is not defined",
     "output_type": "error",
     "traceback": [
      "\u001b[0;31m---------------------------------------------------------------------------\u001b[0m",
      "\u001b[0;31mNameError\u001b[0m                                 Traceback (most recent call last)",
      "\u001b[0;32m<ipython-input-16-45ebac906a4b>\u001b[0m in \u001b[0;36m<module>\u001b[0;34m\u001b[0m\n\u001b[0;32m----> 1\u001b[0;31m \u001b[0mauc_ph_t\u001b[0m\u001b[0;34m.\u001b[0m\u001b[0mmean\u001b[0m\u001b[0;34m(\u001b[0m\u001b[0;34m)\u001b[0m\u001b[0;34m\u001b[0m\u001b[0;34m\u001b[0m\u001b[0m\n\u001b[0m",
      "\u001b[0;31mNameError\u001b[0m: name 'auc_ph_t' is not defined"
     ]
    }
   ],
   "source": [
    "auc_ph_t.mean()"
   ]
  },
  {
   "cell_type": "code",
   "execution_count": 17,
   "metadata": {},
   "outputs": [
    {
     "data": {
      "text/plain": [
       "rel    3.000000\n",
       "ap     1.000000\n",
       "auc    0.982814\n",
       "apr    0.988243\n",
       "p50    1.000000\n",
       "dtype: float64"
      ]
     },
     "execution_count": 17,
     "metadata": {},
     "output_type": "execute_result"
    }
   ],
   "source": [
    "auc_pw_cp.mean()"
   ]
  },
  {
   "cell_type": "code",
   "execution_count": 18,
   "metadata": {},
   "outputs": [
    {
     "data": {
      "text/plain": [
       "rel    3.000000\n",
       "ap     0.986757\n",
       "auc    0.979857\n",
       "apr    0.986757\n",
       "p50    1.000000\n",
       "dtype: float64"
      ]
     },
     "execution_count": 18,
     "metadata": {},
     "output_type": "execute_result"
    }
   ],
   "source": [
    "auc_pw_t.mean()"
   ]
  },
  {
   "cell_type": "code",
   "execution_count": 19,
   "metadata": {},
   "outputs": [],
   "source": [
    "auc_ce_cp_10 = get_auc_10(ce_cp_auc_path_10)\n",
    "auc_bce_cp_10 = get_auc_10(bce_cp_auc_path)\n",
    "auc_ce_t_10 = get_auc_10(ce_t_auc_path)\n",
    "auc_bce_t_10 = get_auc_10(bce_t_auc_path)\n",
    "auc_ph_cp_10 = get_auc_10(ph_cp_path_auc_10)\n",
    "auc_pw_cp_10 = get_auc_10(pw_cp_path_auc_10)\n",
    "auc_ph_t_10 = get_auc_10(ph_tu_path_auc_10)\n",
    "auc_pw_t_10 = get_auc_10(pw_tu_path_auc_10)"
   ]
  },
  {
   "cell_type": "code",
   "execution_count": 20,
   "metadata": {},
   "outputs": [
    {
     "data": {
      "text/plain": [
       "Relation    3.000000\n",
       "ap          1.000000\n",
       "auc         0.982386\n",
       "apr         0.970914\n",
       "p50         1.000000\n",
       "dtype: float64"
      ]
     },
     "execution_count": 20,
     "metadata": {},
     "output_type": "execute_result"
    }
   ],
   "source": [
    "auc_ce_cp_10.mean()"
   ]
  },
  {
   "cell_type": "code",
   "execution_count": 21,
   "metadata": {},
   "outputs": [
    {
     "data": {
      "text/plain": [
       "Relation    3.000000\n",
       "ap          1.000000\n",
       "auc         0.987143\n",
       "apr         0.974200\n",
       "p50         1.000000\n",
       "dtype: float64"
      ]
     },
     "execution_count": 21,
     "metadata": {},
     "output_type": "execute_result"
    }
   ],
   "source": [
    "auc_ce_t_10.mean()"
   ]
  },
  {
   "cell_type": "code",
   "execution_count": 22,
   "metadata": {},
   "outputs": [
    {
     "data": {
      "text/plain": [
       "Relation    3.000000\n",
       "ap          1.000000\n",
       "auc         0.984457\n",
       "apr         0.967929\n",
       "p50         1.000000\n",
       "dtype: float64"
      ]
     },
     "execution_count": 22,
     "metadata": {},
     "output_type": "execute_result"
    }
   ],
   "source": [
    "auc_bce_cp_10.mean()"
   ]
  },
  {
   "cell_type": "code",
   "execution_count": 23,
   "metadata": {},
   "outputs": [
    {
     "data": {
      "text/plain": [
       "Relation    3.000000\n",
       "ap          1.000000\n",
       "auc         0.980914\n",
       "apr         0.962686\n",
       "p50         1.000000\n",
       "dtype: float64"
      ]
     },
     "execution_count": 23,
     "metadata": {},
     "output_type": "execute_result"
    }
   ],
   "source": [
    "auc_bce_t_10.mean()"
   ]
  },
  {
   "cell_type": "code",
   "execution_count": 30,
   "metadata": {},
   "outputs": [
    {
     "data": {
      "text/plain": [
       "Relation    3.000000\n",
       "ap          1.000000\n",
       "auc         0.982314\n",
       "apr         0.969000\n",
       "p50         1.000000\n",
       "dtype: float64"
      ]
     },
     "execution_count": 30,
     "metadata": {},
     "output_type": "execute_result"
    }
   ],
   "source": [
    "auc_ph_cp_10.iloc[3:].mean()"
   ]
  },
  {
   "cell_type": "code",
   "execution_count": 37,
   "metadata": {},
   "outputs": [
    {
     "data": {
      "text/plain": [
       "Relation    3.000000\n",
       "ap          0.949129\n",
       "auc         0.972057\n",
       "apr         0.949129\n",
       "p50         1.000000\n",
       "dtype: float64"
      ]
     },
     "execution_count": 37,
     "metadata": {},
     "output_type": "execute_result"
    }
   ],
   "source": [
    "auc_ph_t_10.mean()"
   ]
  },
  {
   "cell_type": "code",
   "execution_count": 38,
   "metadata": {},
   "outputs": [
    {
     "data": {
      "text/plain": [
       "Relation    3.000000\n",
       "ap          1.000000\n",
       "auc         0.982900\n",
       "apr         0.964614\n",
       "p50         1.000000\n",
       "dtype: float64"
      ]
     },
     "execution_count": 38,
     "metadata": {},
     "output_type": "execute_result"
    }
   ],
   "source": [
    "auc_pw_cp_10.mean()"
   ]
  },
  {
   "cell_type": "code",
   "execution_count": 39,
   "metadata": {},
   "outputs": [
    {
     "data": {
      "text/plain": [
       "Relation    3.000000\n",
       "ap          0.960986\n",
       "auc         0.979971\n",
       "apr         0.960986\n",
       "p50         1.000000\n",
       "dtype: float64"
      ]
     },
     "execution_count": 39,
     "metadata": {},
     "output_type": "execute_result"
    }
   ],
   "source": [
    "auc_pw_t_10.mean()"
   ]
  },
  {
   "cell_type": "markdown",
   "metadata": {},
   "source": [
    "## Entities analysis"
   ]
  },
  {
   "cell_type": "code",
   "execution_count": 40,
   "metadata": {},
   "outputs": [],
   "source": [
    "def get_entities_info(path):\n",
    "    v_rare_head = False\n",
    "    v_rare_tail = False\n",
    "    rare_h = False\n",
    "    rare_t = False\n",
    "    common_h = False\n",
    "    common_t = False\n",
    "    vcommon_h = False\n",
    "    vcommon_t = False\n",
    "    vvcommon_h = False\n",
    "    vvcommon_t = False\n",
    "    with open(path, 'r') as f:\n",
    "        cplex_cp_ents = []\n",
    "        for l in f.readlines():\n",
    "            res = []\n",
    "\n",
    "            if 'VERYRARE HEAD' in l:\n",
    "                if not v_rare_head:\n",
    "                    l = l.split()\n",
    "                    mrr = l[5]\n",
    "                    h1 = l[7]\n",
    "                    h3 = l[9]\n",
    "                    h10 = l[11]\n",
    "                    res.append('very rare head')\n",
    "                    v_rare_head = True\n",
    "                else:\n",
    "                    continue\n",
    "            elif 'VERYRARE TAIL' in l:\n",
    "                if not v_rare_tail:\n",
    "                    l = l.split()\n",
    "                    mrr = l[5]\n",
    "                    h1 = l[7]\n",
    "                    h3 = l[9]\n",
    "                    h10 = l[11]\n",
    "                    res.append('very rare tail')\n",
    "                    v_rare_tail = True\n",
    "                else:\n",
    "                    continue\n",
    "            elif 'VERYVERY-COMMON HEAD' in l:\n",
    "                if not vvcommon_h:\n",
    "                    l = l.split()\n",
    "                    mrr = l[5]\n",
    "                    h1 = l[7]\n",
    "                    h3 = l[9]\n",
    "                    h10 = l[11]\n",
    "                    res.append('very very common head')\n",
    "                    vvcommon_h = True\n",
    "                else:\n",
    "                    continue\n",
    "            elif 'VERYVERY-COMMON TAIL' in l:\n",
    "                if not vvcommon_t:\n",
    "                    l = l.split()\n",
    "                    mrr = l[5]\n",
    "                    h1 = l[7]\n",
    "                    h3 = l[9]\n",
    "                    h10 = l[11]\n",
    "                    res.append('very very common tail')\n",
    "                    vvcommon_t = True\n",
    "                else:\n",
    "                    continue\n",
    "            elif 'VERY-COMMON HEAD' in l:\n",
    "                if not vcommon_h:\n",
    "                    l = l.split()\n",
    "                    mrr = l[5]\n",
    "                    h1 = l[7]\n",
    "                    h3 = l[9]\n",
    "                    h10 = l[11]\n",
    "                    res.append('very common head')\n",
    "                    vcommon_h = True\n",
    "                else:\n",
    "                    continue\n",
    "            elif 'VERY-COMMON TAIL' in l:\n",
    "                if not vcommon_t:\n",
    "                    l = l.split()\n",
    "                    mrr = l[5]\n",
    "                    h1 = l[7]\n",
    "                    h3 = l[9]\n",
    "                    h10 = l[11]\n",
    "                    res.append('very common tail')\n",
    "                    vcommon_t = True\n",
    "                else:\n",
    "                    continue\n",
    "            elif 'COMMON- HEAD' in l:\n",
    "                if not common_h:\n",
    "                    l = l.split()\n",
    "                    mrr = l[5]\n",
    "                    h1 = l[7]\n",
    "                    h3 = l[9]\n",
    "                    h10 = l[11]\n",
    "                    res.append('common head')\n",
    "                    common_h = True\n",
    "                else:\n",
    "                    continue\n",
    "            elif 'COMMON- TAIL' in l:\n",
    "                if not common_t:\n",
    "                    l = l.split()\n",
    "                    mrr = l[5]\n",
    "                    h1 = l[7]\n",
    "                    h3 = l[9]\n",
    "                    h10 = l[11]\n",
    "                    res.append('common tail')\n",
    "                    common_t = True\n",
    "                else:\n",
    "                    continue\n",
    "            elif 'RARE HEAD' in l:\n",
    "                if not rare_h:\n",
    "                    l = l.split()\n",
    "                    mrr = l[5]\n",
    "                    h1 = l[7]\n",
    "                    h3 = l[9]\n",
    "                    h10 = l[11]\n",
    "                    res.append('rare head')\n",
    "                    rare_h = True\n",
    "                else:\n",
    "                    continue\n",
    "            elif 'RARE TAIL' in l:\n",
    "                if not rare_t:\n",
    "                    l = l.split()\n",
    "                    mrr = l[5]\n",
    "                    h1 = l[7]\n",
    "                    h3 = l[9]\n",
    "                    h10 = l[11]\n",
    "                    res.append('rare tail')\n",
    "                    rare_t = True\n",
    "                else:\n",
    "                    continue\n",
    "            else:\n",
    "                continue\n",
    "            res += [float(mrr), float(h1), float(h3), float(h10)]\n",
    "            cplex_cp_ents.append(res)\n",
    "        return cplex_cp_ents"
   ]
  },
  {
   "cell_type": "code",
   "execution_count": 41,
   "metadata": {},
   "outputs": [],
   "source": [
    "cplex_ents = get_entities_info(ce_cp_ent_path)\n",
    "bce_cplex_ents = get_entities_info(bce_cp_ent_path)\n",
    "tuck_ents = get_entities_info(ce_t_ent_path)\n",
    "bce_tuck_ents = get_entities_info(bce_t_ent_path)"
   ]
  },
  {
   "cell_type": "code",
   "execution_count": 42,
   "metadata": {},
   "outputs": [],
   "source": [
    "ph_cplex_ents = get_entities_info(ph_cp_path_ent)\n",
    "pw_cplex_ents = get_entities_info(pw_cp_path_ent)\n",
    "ph_tuck_ents = get_entities_info(ph_tu_path_ent)\n",
    "pw_tuck_ents = get_entities_info(pw_tu_path_ent)"
   ]
  },
  {
   "cell_type": "code",
   "execution_count": 43,
   "metadata": {},
   "outputs": [
    {
     "data": {
      "text/plain": [
       "10"
      ]
     },
     "execution_count": 43,
     "metadata": {},
     "output_type": "execute_result"
    }
   ],
   "source": [
    "len(tuck_ents)"
   ]
  },
  {
   "cell_type": "code",
   "execution_count": 44,
   "metadata": {},
   "outputs": [
    {
     "data": {
      "text/plain": [
       "10"
      ]
     },
     "execution_count": 44,
     "metadata": {},
     "output_type": "execute_result"
    }
   ],
   "source": [
    "len(bce_tuck_ents)"
   ]
  },
  {
   "cell_type": "code",
   "execution_count": 45,
   "metadata": {},
   "outputs": [
    {
     "data": {
      "text/plain": [
       "10"
      ]
     },
     "execution_count": 45,
     "metadata": {},
     "output_type": "execute_result"
    }
   ],
   "source": [
    "len(ph_tuck_ents)"
   ]
  },
  {
   "cell_type": "code",
   "execution_count": 46,
   "metadata": {},
   "outputs": [],
   "source": [
    "all_ents = cplex_ents + bce_cplex_ents + pw_cplex_ents + ph_cplex_ents + tuck_ents + bce_tuck_ents + \\\n",
    "            pw_tuck_ents + ph_tuck_ents\n",
    "df = pd.DataFrame(all_ents)\n",
    "df['label'] = (['CE Complex'] * 10)+ (['BCE Complex'] * 10) + \\\n",
    "                (['PW-Log Complex'] * 10)+ (['PH Complex'] * 10) + \\\n",
    "                (['CE Tucker'] * 10) + (['BCE Tucker'] * 10) + \\\n",
    "                 (['PW-Log Tucker'] * 10) + (['PH Tucker'] * 10)"
   ]
  },
  {
   "cell_type": "code",
   "execution_count": 47,
   "metadata": {},
   "outputs": [],
   "source": [
    "order = ['CE Complex', 'BCE Complex', 'PW-Log Complex', 'PH Complex', \\\n",
    "         'CE Tucker', 'BCE Tucker', 'PW-Log Tucker', 'PH Tucker']\n",
    "df['sort'] = df['label'].apply(lambda x: np.where(np.array(order) == x)[0][0])"
   ]
  },
  {
   "cell_type": "code",
   "execution_count": 48,
   "metadata": {},
   "outputs": [
    {
     "data": {
      "text/html": [
       "<div>\n",
       "<style scoped>\n",
       "    .dataframe tbody tr th:only-of-type {\n",
       "        vertical-align: middle;\n",
       "    }\n",
       "\n",
       "    .dataframe tbody tr th {\n",
       "        vertical-align: top;\n",
       "    }\n",
       "\n",
       "    .dataframe thead th {\n",
       "        text-align: right;\n",
       "    }\n",
       "</style>\n",
       "<table border=\"1\" class=\"dataframe\">\n",
       "  <thead>\n",
       "    <tr style=\"text-align: right;\">\n",
       "      <th></th>\n",
       "      <th>0</th>\n",
       "      <th>1</th>\n",
       "      <th>2</th>\n",
       "      <th>3</th>\n",
       "      <th>4</th>\n",
       "      <th>label</th>\n",
       "      <th>sort</th>\n",
       "    </tr>\n",
       "  </thead>\n",
       "  <tbody>\n",
       "    <tr>\n",
       "      <th>0</th>\n",
       "      <td>rare head</td>\n",
       "      <td>0.438449</td>\n",
       "      <td>0.323417</td>\n",
       "      <td>0.499788</td>\n",
       "      <td>0.679133</td>\n",
       "      <td>CE Complex</td>\n",
       "      <td>0</td>\n",
       "    </tr>\n",
       "    <tr>\n",
       "      <th>1</th>\n",
       "      <td>rare tail</td>\n",
       "      <td>0.404361</td>\n",
       "      <td>0.298395</td>\n",
       "      <td>0.454865</td>\n",
       "      <td>0.621866</td>\n",
       "      <td>CE Complex</td>\n",
       "      <td>0</td>\n",
       "    </tr>\n",
       "    <tr>\n",
       "      <th>2</th>\n",
       "      <td>very rare head</td>\n",
       "      <td>0.098352</td>\n",
       "      <td>0.072046</td>\n",
       "      <td>0.112392</td>\n",
       "      <td>0.149856</td>\n",
       "      <td>CE Complex</td>\n",
       "      <td>0</td>\n",
       "    </tr>\n",
       "    <tr>\n",
       "      <th>3</th>\n",
       "      <td>very rare tail</td>\n",
       "      <td>0.122172</td>\n",
       "      <td>0.048780</td>\n",
       "      <td>0.153310</td>\n",
       "      <td>0.271777</td>\n",
       "      <td>CE Complex</td>\n",
       "      <td>0</td>\n",
       "    </tr>\n",
       "    <tr>\n",
       "      <th>4</th>\n",
       "      <td>common head</td>\n",
       "      <td>0.403833</td>\n",
       "      <td>0.243684</td>\n",
       "      <td>0.469491</td>\n",
       "      <td>0.774582</td>\n",
       "      <td>CE Complex</td>\n",
       "      <td>0</td>\n",
       "    </tr>\n",
       "  </tbody>\n",
       "</table>\n",
       "</div>"
      ],
      "text/plain": [
       "                0         1         2         3         4       label  sort\n",
       "0       rare head  0.438449  0.323417  0.499788  0.679133  CE Complex     0\n",
       "1       rare tail  0.404361  0.298395  0.454865  0.621866  CE Complex     0\n",
       "2  very rare head  0.098352  0.072046  0.112392  0.149856  CE Complex     0\n",
       "3  very rare tail  0.122172  0.048780  0.153310  0.271777  CE Complex     0\n",
       "4     common head  0.403833  0.243684  0.469491  0.774582  CE Complex     0"
      ]
     },
     "execution_count": 48,
     "metadata": {},
     "output_type": "execute_result"
    }
   ],
   "source": [
    "df.head()"
   ]
  },
  {
   "cell_type": "code",
   "execution_count": 49,
   "metadata": {},
   "outputs": [],
   "source": [
    "def plot_entity_common(dfs, labels, what='head', mrr=False, save=None):\n",
    "    \n",
    "    \n",
    "    df = dfs[dfs[0].str.contains(what)]\n",
    "    \n",
    "    palette = {'CE Complex': 'blue',\n",
    "                  'BCE Complex': 'royalblue',\n",
    "                  'PH Complex': 'skyblue',\n",
    "                   'PW-Log Complex': 'dodgerblue',\n",
    "                  'CE Tucker': 'indianred',\n",
    "                  'BCE Tucker': 'salmon', \n",
    "                  'PW-Log Tucker': 'sandybrown',\n",
    "                  'PH Tucker': 'peru', \n",
    "                  'AMIE': 'mediumpurple',\n",
    "                  'CBR': 'plum'}\n",
    "#     concat = []\n",
    "#     for i,df in enumerate(dfs):\n",
    "    if mrr:\n",
    "        d = df.groupby([0, 'label', 'sort'])[1].mean().reset_index()\n",
    "    else:\n",
    "        d = df.groupby([0, 'label', 'sort'])[4].mean().reset_index()\n",
    "    d = d.sort_values(by='sort')\n",
    "    if len(labels) > 0:\n",
    "        d['label'] = labels[i]\n",
    "#     concat.append(d)\n",
    "    \n",
    "#     conc = pd.concat(concat)\n",
    "    f = plt.figure(figsize=(20,5))\n",
    "    if mrr:\n",
    "        g = sns.barplot(x=0, y=1, hue = 'label', data=d, order=['very rare ' + what, 'rare ' + what, 'common ' + what, 'very common ' + what, 'very very common ' + what],\\\n",
    "                    palette= palette)\n",
    "    else:\n",
    "        g = sns.barplot(x=0, y=4, hue = 'label', data=d, order=['very rare ' + what, 'rare ' + what, 'common ' + what, 'very common ' + what, 'very very common ' + what],\\\n",
    "                    palette= palette)\n",
    "    \n",
    "   \n",
    "    \n",
    "    plt.xticks(rotation=15)\n",
    "    plt.xlabel('Rarity of entity predicted')\n",
    "    if mrr:\n",
    "        plt.ylabel('MRR')\n",
    "        plt.title('MRR model comparison for ' + what + ' prediction')\n",
    "    else:\n",
    "        plt.ylabel('Hits@10')\n",
    "        plt.title('Hits@10 model comparison for ' + what + ' prediction')\n",
    "    plt.legend(bbox_to_anchor=(1.05, 1), loc=2, borderaxespad=0.)\n",
    "    if save is not None:\n",
    "        plt.tight_layout()\n",
    "        f.savefig(save + '_mrr_' + str(mrr) + '.svg', format='svg', dpi=1200)\n",
    "    \n",
    "    plt.show()"
   ]
  },
  {
   "cell_type": "code",
   "execution_count": 50,
   "metadata": {},
   "outputs": [
    {
     "data": {
      "image/png": "[encoded data removed]",
      "text/plain": [
       "<Figure size 1440x360 with 1 Axes>"
      ]
     },
     "metadata": {
      "needs_background": "light"
     },
     "output_type": "display_data"
    }
   ],
   "source": [
    "plot_entity_common(df, [], mrr=True, save='head_pred_all_pathme')"
   ]
  },
  {
   "cell_type": "code",
   "execution_count": 150,
   "metadata": {},
   "outputs": [
    {
     "data": {
      "image/png": "[encoded data removed]",
      "text/plain": [
       "<Figure size 1440x360 with 1 Axes>"
      ]
     },
     "metadata": {
      "needs_background": "light"
     },
     "output_type": "display_data"
    }
   ],
   "source": [
    "plot_entity_common(df, [], what='tail', mrr=True, save='tail_pred_all_pathme')"
   ]
  },
  {
   "cell_type": "code",
   "execution_count": null,
   "metadata": {},
   "outputs": [],
   "source": []
  }
 ],
 "metadata": {
  "kernelspec": {
   "display_name": "libkge",
   "language": "python",
   "name": "libkge"
  },
  "language_info": {
   "codemirror_mode": {
    "name": "ipython",
    "version": 3
   },
   "file_extension": ".py",
   "mimetype": "text/x-python",
   "name": "python",
   "nbconvert_exporter": "python",
   "pygments_lexer": "ipython3",
   "version": "3.7.6"
  }
 },
 "nbformat": 4,
 "nbformat_minor": 4
}
