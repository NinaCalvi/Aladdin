{
 "cells": [
  {
   "cell_type": "markdown",
   "metadata": {},
   "source": [
    "Analysis:\n",
    "- draw graph of MRR vs num of training triples per relationship\n",
    "- divide relationships up between the different types of relationships that they are and see the results then "
   ]
  },
  {
   "cell_type": "code",
   "execution_count": 1,
   "metadata": {},
   "outputs": [],
   "source": [
    "import pandas as pd\n",
    "import seaborn as sns\n",
    "import matplotlib.pyplot as plt"
   ]
  },
  {
   "cell_type": "markdown",
   "metadata": {},
   "source": [
    "## 1 vs All comparison, BCE and CE"
   ]
  },
  {
   "cell_type": "code",
   "execution_count": 2,
   "metadata": {},
   "outputs": [],
   "source": [
    "ce_tuck = pd.read_csv('best_tucker_ce_covid_rel_NEWMRR.csv')\n",
    "bce_tuck = pd.read_csv('tucker_bce_relation_covid.csv')\n",
    "bce_cp = pd.read_csv('best_cplex_covid_rel_BCE.csv')\n",
    "ce_cp = pd.read_csv('cplex_ce_relation_covid.csv')"
   ]
  },
  {
   "cell_type": "code",
   "execution_count": 3,
   "metadata": {},
   "outputs": [
    {
     "data": {
      "text/html": [
       "<div>\n",
       "<style scoped>\n",
       "    .dataframe tbody tr th:only-of-type {\n",
       "        vertical-align: middle;\n",
       "    }\n",
       "\n",
       "    .dataframe tbody tr th {\n",
       "        vertical-align: top;\n",
       "    }\n",
       "\n",
       "    .dataframe thead th {\n",
       "        text-align: right;\n",
       "    }\n",
       "</style>\n",
       "<table border=\"1\" class=\"dataframe\">\n",
       "  <thead>\n",
       "    <tr style=\"text-align: right;\">\n",
       "      <th></th>\n",
       "      <th>Relation</th>\n",
       "      <th>MRR</th>\n",
       "      <th>h@1</th>\n",
       "      <th>h@3</th>\n",
       "      <th>h@10</th>\n",
       "    </tr>\n",
       "  </thead>\n",
       "  <tbody>\n",
       "    <tr>\n",
       "      <th>0</th>\n",
       "      <td>8</td>\n",
       "      <td>0.035863</td>\n",
       "      <td>0.015349</td>\n",
       "      <td>0.028364</td>\n",
       "      <td>0.065693</td>\n",
       "    </tr>\n",
       "    <tr>\n",
       "      <th>1</th>\n",
       "      <td>1</td>\n",
       "      <td>0.044858</td>\n",
       "      <td>0.022272</td>\n",
       "      <td>0.042931</td>\n",
       "      <td>0.080052</td>\n",
       "    </tr>\n",
       "    <tr>\n",
       "      <th>2</th>\n",
       "      <td>7</td>\n",
       "      <td>0.172514</td>\n",
       "      <td>0.101493</td>\n",
       "      <td>0.178253</td>\n",
       "      <td>0.278743</td>\n",
       "    </tr>\n",
       "    <tr>\n",
       "      <th>3</th>\n",
       "      <td>3</td>\n",
       "      <td>0.021108</td>\n",
       "      <td>0.005821</td>\n",
       "      <td>0.014877</td>\n",
       "      <td>0.038163</td>\n",
       "    </tr>\n",
       "    <tr>\n",
       "      <th>4</th>\n",
       "      <td>9</td>\n",
       "      <td>0.507146</td>\n",
       "      <td>0.327973</td>\n",
       "      <td>0.485258</td>\n",
       "      <td>0.623538</td>\n",
       "    </tr>\n",
       "  </tbody>\n",
       "</table>\n",
       "</div>"
      ],
      "text/plain": [
       "   Relation       MRR       h@1       h@3      h@10\n",
       "0         8  0.035863  0.015349  0.028364  0.065693\n",
       "1         1  0.044858  0.022272  0.042931  0.080052\n",
       "2         7  0.172514  0.101493  0.178253  0.278743\n",
       "3         3  0.021108  0.005821  0.014877  0.038163\n",
       "4         9  0.507146  0.327973  0.485258  0.623538"
      ]
     },
     "execution_count": 3,
     "metadata": {},
     "output_type": "execute_result"
    }
   ],
   "source": [
    "bce_cp.head()"
   ]
  },
  {
   "cell_type": "code",
   "execution_count": 78,
   "metadata": {},
   "outputs": [
    {
     "data": {
      "text/html": [
       "<div>\n",
       "<style scoped>\n",
       "    .dataframe tbody tr th:only-of-type {\n",
       "        vertical-align: middle;\n",
       "    }\n",
       "\n",
       "    .dataframe tbody tr th {\n",
       "        vertical-align: top;\n",
       "    }\n",
       "\n",
       "    .dataframe thead th {\n",
       "        text-align: right;\n",
       "    }\n",
       "</style>\n",
       "<table border=\"1\" class=\"dataframe\">\n",
       "  <thead>\n",
       "    <tr style=\"text-align: right;\">\n",
       "      <th></th>\n",
       "      <th>Relation</th>\n",
       "      <th>MRR</th>\n",
       "      <th>h@1</th>\n",
       "      <th>h@3</th>\n",
       "      <th>h@10</th>\n",
       "    </tr>\n",
       "  </thead>\n",
       "  <tbody>\n",
       "    <tr>\n",
       "      <th>24</th>\n",
       "      <td>26</td>\n",
       "      <td>0.513247</td>\n",
       "      <td>0.5</td>\n",
       "      <td>0.5</td>\n",
       "      <td>0.5</td>\n",
       "    </tr>\n",
       "  </tbody>\n",
       "</table>\n",
       "</div>"
      ],
      "text/plain": [
       "    Relation       MRR  h@1  h@3  h@10\n",
       "24        26  0.513247  0.5  0.5   0.5"
      ]
     },
     "execution_count": 78,
     "metadata": {},
     "output_type": "execute_result"
    }
   ],
   "source": [
    "ce_cp[ce_cp['Relation'] == 26]"
   ]
  },
  {
   "cell_type": "code",
   "execution_count": 79,
   "metadata": {},
   "outputs": [
    {
     "data": {
      "text/html": [
       "<div>\n",
       "<style scoped>\n",
       "    .dataframe tbody tr th:only-of-type {\n",
       "        vertical-align: middle;\n",
       "    }\n",
       "\n",
       "    .dataframe tbody tr th {\n",
       "        vertical-align: top;\n",
       "    }\n",
       "\n",
       "    .dataframe thead th {\n",
       "        text-align: right;\n",
       "    }\n",
       "</style>\n",
       "<table border=\"1\" class=\"dataframe\">\n",
       "  <thead>\n",
       "    <tr style=\"text-align: right;\">\n",
       "      <th></th>\n",
       "      <th>Relation</th>\n",
       "      <th>MRR</th>\n",
       "      <th>h@1</th>\n",
       "      <th>h@3</th>\n",
       "      <th>h@10</th>\n",
       "    </tr>\n",
       "  </thead>\n",
       "  <tbody>\n",
       "    <tr>\n",
       "      <th>0</th>\n",
       "      <td>8</td>\n",
       "      <td>0.098049</td>\n",
       "      <td>0.047397</td>\n",
       "      <td>0.098477</td>\n",
       "      <td>0.192043</td>\n",
       "    </tr>\n",
       "    <tr>\n",
       "      <th>1</th>\n",
       "      <td>1</td>\n",
       "      <td>0.084085</td>\n",
       "      <td>0.047127</td>\n",
       "      <td>0.080374</td>\n",
       "      <td>0.151388</td>\n",
       "    </tr>\n",
       "    <tr>\n",
       "      <th>2</th>\n",
       "      <td>7</td>\n",
       "      <td>0.222811</td>\n",
       "      <td>0.148619</td>\n",
       "      <td>0.246435</td>\n",
       "      <td>0.371435</td>\n",
       "    </tr>\n",
       "    <tr>\n",
       "      <th>3</th>\n",
       "      <td>3</td>\n",
       "      <td>0.047284</td>\n",
       "      <td>0.016171</td>\n",
       "      <td>0.038810</td>\n",
       "      <td>0.098965</td>\n",
       "    </tr>\n",
       "    <tr>\n",
       "      <th>4</th>\n",
       "      <td>9</td>\n",
       "      <td>0.421307</td>\n",
       "      <td>0.311160</td>\n",
       "      <td>0.477217</td>\n",
       "      <td>0.632919</td>\n",
       "    </tr>\n",
       "    <tr>\n",
       "      <th>5</th>\n",
       "      <td>10</td>\n",
       "      <td>0.418452</td>\n",
       "      <td>0.308267</td>\n",
       "      <td>0.475005</td>\n",
       "      <td>0.629887</td>\n",
       "    </tr>\n",
       "    <tr>\n",
       "      <th>6</th>\n",
       "      <td>14</td>\n",
       "      <td>0.417986</td>\n",
       "      <td>0.288126</td>\n",
       "      <td>0.477791</td>\n",
       "      <td>0.672046</td>\n",
       "    </tr>\n",
       "    <tr>\n",
       "      <th>7</th>\n",
       "      <td>0</td>\n",
       "      <td>0.162621</td>\n",
       "      <td>0.088454</td>\n",
       "      <td>0.177686</td>\n",
       "      <td>0.315487</td>\n",
       "    </tr>\n",
       "    <tr>\n",
       "      <th>8</th>\n",
       "      <td>5</td>\n",
       "      <td>0.083225</td>\n",
       "      <td>0.033685</td>\n",
       "      <td>0.079858</td>\n",
       "      <td>0.174267</td>\n",
       "    </tr>\n",
       "    <tr>\n",
       "      <th>9</th>\n",
       "      <td>19</td>\n",
       "      <td>0.048375</td>\n",
       "      <td>0.014851</td>\n",
       "      <td>0.044554</td>\n",
       "      <td>0.106931</td>\n",
       "    </tr>\n",
       "    <tr>\n",
       "      <th>10</th>\n",
       "      <td>4</td>\n",
       "      <td>0.058733</td>\n",
       "      <td>0.023745</td>\n",
       "      <td>0.048507</td>\n",
       "      <td>0.118046</td>\n",
       "    </tr>\n",
       "    <tr>\n",
       "      <th>11</th>\n",
       "      <td>13</td>\n",
       "      <td>0.433620</td>\n",
       "      <td>0.323587</td>\n",
       "      <td>0.486505</td>\n",
       "      <td>0.654484</td>\n",
       "    </tr>\n",
       "    <tr>\n",
       "      <th>12</th>\n",
       "      <td>11</td>\n",
       "      <td>0.063434</td>\n",
       "      <td>0.023781</td>\n",
       "      <td>0.055087</td>\n",
       "      <td>0.132450</td>\n",
       "    </tr>\n",
       "    <tr>\n",
       "      <th>13</th>\n",
       "      <td>12</td>\n",
       "      <td>0.183334</td>\n",
       "      <td>0.115869</td>\n",
       "      <td>0.202732</td>\n",
       "      <td>0.319368</td>\n",
       "    </tr>\n",
       "    <tr>\n",
       "      <th>14</th>\n",
       "      <td>2</td>\n",
       "      <td>0.071252</td>\n",
       "      <td>0.035823</td>\n",
       "      <td>0.063262</td>\n",
       "      <td>0.132622</td>\n",
       "    </tr>\n",
       "    <tr>\n",
       "      <th>15</th>\n",
       "      <td>6</td>\n",
       "      <td>0.292927</td>\n",
       "      <td>0.200000</td>\n",
       "      <td>0.333691</td>\n",
       "      <td>0.469099</td>\n",
       "    </tr>\n",
       "    <tr>\n",
       "      <th>16</th>\n",
       "      <td>21</td>\n",
       "      <td>0.114517</td>\n",
       "      <td>0.067944</td>\n",
       "      <td>0.114983</td>\n",
       "      <td>0.198606</td>\n",
       "    </tr>\n",
       "    <tr>\n",
       "      <th>17</th>\n",
       "      <td>16</td>\n",
       "      <td>0.113364</td>\n",
       "      <td>0.055391</td>\n",
       "      <td>0.119645</td>\n",
       "      <td>0.229690</td>\n",
       "    </tr>\n",
       "    <tr>\n",
       "      <th>18</th>\n",
       "      <td>23</td>\n",
       "      <td>0.184692</td>\n",
       "      <td>0.132979</td>\n",
       "      <td>0.180851</td>\n",
       "      <td>0.297872</td>\n",
       "    </tr>\n",
       "    <tr>\n",
       "      <th>19</th>\n",
       "      <td>17</td>\n",
       "      <td>0.059473</td>\n",
       "      <td>0.026730</td>\n",
       "      <td>0.051887</td>\n",
       "      <td>0.119497</td>\n",
       "    </tr>\n",
       "  </tbody>\n",
       "</table>\n",
       "</div>"
      ],
      "text/plain": [
       "    Relation       MRR       h@1       h@3      h@10\n",
       "0          8  0.098049  0.047397  0.098477  0.192043\n",
       "1          1  0.084085  0.047127  0.080374  0.151388\n",
       "2          7  0.222811  0.148619  0.246435  0.371435\n",
       "3          3  0.047284  0.016171  0.038810  0.098965\n",
       "4          9  0.421307  0.311160  0.477217  0.632919\n",
       "5         10  0.418452  0.308267  0.475005  0.629887\n",
       "6         14  0.417986  0.288126  0.477791  0.672046\n",
       "7          0  0.162621  0.088454  0.177686  0.315487\n",
       "8          5  0.083225  0.033685  0.079858  0.174267\n",
       "9         19  0.048375  0.014851  0.044554  0.106931\n",
       "10         4  0.058733  0.023745  0.048507  0.118046\n",
       "11        13  0.433620  0.323587  0.486505  0.654484\n",
       "12        11  0.063434  0.023781  0.055087  0.132450\n",
       "13        12  0.183334  0.115869  0.202732  0.319368\n",
       "14         2  0.071252  0.035823  0.063262  0.132622\n",
       "15         6  0.292927  0.200000  0.333691  0.469099\n",
       "16        21  0.114517  0.067944  0.114983  0.198606\n",
       "17        16  0.113364  0.055391  0.119645  0.229690\n",
       "18        23  0.184692  0.132979  0.180851  0.297872\n",
       "19        17  0.059473  0.026730  0.051887  0.119497"
      ]
     },
     "execution_count": 79,
     "metadata": {},
     "output_type": "execute_result"
    }
   ],
   "source": [
    "ce_cp.head(20)"
   ]
  },
  {
   "cell_type": "code",
   "execution_count": 4,
   "metadata": {},
   "outputs": [],
   "source": [
    "from matplotlib import pyplot as plt"
   ]
  },
  {
   "cell_type": "code",
   "execution_count": 219,
   "metadata": {},
   "outputs": [
    {
     "data": {
      "image/png": "[encoded data removed]",
      "text/plain": [
       "<Figure size 432x288 with 1 Axes>"
      ]
     },
     "metadata": {
      "needs_background": "light"
     },
     "output_type": "display_data"
    }
   ],
   "source": [
    "plt.figure()\n",
    "sns.barplot(x='Relation', y='MRR', hue='label', data=concatenated)\n",
    "plt.show()"
   ]
  },
  {
   "cell_type": "code",
   "execution_count": 223,
   "metadata": {},
   "outputs": [],
   "source": [
    "bce_tuck['label'] = 'BCE tucker'\n",
    "ce_tuck['label'] = 'CE tucker'\n",
    "concatenated_t = pd.concat([ce_tuck, bce_tuck])"
   ]
  },
  {
   "cell_type": "code",
   "execution_count": 224,
   "metadata": {},
   "outputs": [
    {
     "data": {
      "image/png": "[encoded data removed]",
      "text/plain": [
       "<Figure size 432x288 with 1 Axes>"
      ]
     },
     "metadata": {
      "needs_background": "light"
     },
     "output_type": "display_data"
    }
   ],
   "source": [
    "plt.figure()\n",
    "sns.barplot(x='Relation', y='MRR', hue='label', data=concatenated_t)\n",
    "plt.show()"
   ]
  },
  {
   "cell_type": "code",
   "execution_count": 225,
   "metadata": {},
   "outputs": [],
   "source": [
    "def plot_group(df1, df2, label1=None, label2=None):\n",
    "    if label1 is not None:\n",
    "        df1['label'] = label1\n",
    "    if label2 is not None:\n",
    "        df2['label'] = label2\n",
    "    conc = pd.concat([df1, df2])\n",
    "    plt.figure()\n",
    "    sns.barplot(x='Relation', y='h@10', hue='label', data=conc)\n",
    "    plt.show()\n",
    "    return"
   ]
  },
  {
   "cell_type": "code",
   "execution_count": 228,
   "metadata": {},
   "outputs": [
    {
     "data": {
      "image/png": "[encoded data removed]",
      "text/plain": [
       "<Figure size 432x288 with 1 Axes>"
      ]
     },
     "metadata": {
      "needs_background": "light"
     },
     "output_type": "display_data"
    }
   ],
   "source": [
    "plot_group(ce_cp, bce_cp, label1='CE complex', label2='BCE complex')"
   ]
  },
  {
   "cell_type": "code",
   "execution_count": 229,
   "metadata": {},
   "outputs": [
    {
     "data": {
      "image/png": "[encoded data removed]",
      "text/plain": [
       "<Figure size 432x288 with 1 Axes>"
      ]
     },
     "metadata": {
      "needs_background": "light"
     },
     "output_type": "display_data"
    }
   ],
   "source": [
    "plot_group(bce_cp, bce_tuck)"
   ]
  },
  {
   "cell_type": "code",
   "execution_count": 4,
   "metadata": {},
   "outputs": [
    {
     "name": "stderr",
     "output_type": "stream",
     "text": [
      "/opt/miniconda/envs/nina/lib/python3.7/site-packages/tensorflow/python/framework/dtypes.py:526: FutureWarning: Passing (type, 1) or '1type' as a synonym of type is deprecated; in a future version of numpy, it will be understood as (type, (1,)) / '(1,)type'.\n",
      "  _np_qint8 = np.dtype([(\"qint8\", np.int8, 1)])\n",
      "/opt/miniconda/envs/nina/lib/python3.7/site-packages/tensorflow/python/framework/dtypes.py:527: FutureWarning: Passing (type, 1) or '1type' as a synonym of type is deprecated; in a future version of numpy, it will be understood as (type, (1,)) / '(1,)type'.\n",
      "  _np_quint8 = np.dtype([(\"quint8\", np.uint8, 1)])\n",
      "/opt/miniconda/envs/nina/lib/python3.7/site-packages/tensorflow/python/framework/dtypes.py:528: FutureWarning: Passing (type, 1) or '1type' as a synonym of type is deprecated; in a future version of numpy, it will be understood as (type, (1,)) / '(1,)type'.\n",
      "  _np_qint16 = np.dtype([(\"qint16\", np.int16, 1)])\n",
      "/opt/miniconda/envs/nina/lib/python3.7/site-packages/tensorflow/python/framework/dtypes.py:529: FutureWarning: Passing (type, 1) or '1type' as a synonym of type is deprecated; in a future version of numpy, it will be understood as (type, (1,)) / '(1,)type'.\n",
      "  _np_quint16 = np.dtype([(\"quint16\", np.uint16, 1)])\n",
      "/opt/miniconda/envs/nina/lib/python3.7/site-packages/tensorflow/python/framework/dtypes.py:530: FutureWarning: Passing (type, 1) or '1type' as a synonym of type is deprecated; in a future version of numpy, it will be understood as (type, (1,)) / '(1,)type'.\n",
      "  _np_qint32 = np.dtype([(\"qint32\", np.int32, 1)])\n",
      "/opt/miniconda/envs/nina/lib/python3.7/site-packages/tensorflow/python/framework/dtypes.py:535: FutureWarning: Passing (type, 1) or '1type' as a synonym of type is deprecated; in a future version of numpy, it will be understood as (type, (1,)) / '(1,)type'.\n",
      "  np_resource = np.dtype([(\"resource\", np.ubyte, 1)])\n"
     ]
    }
   ],
   "source": [
    "from libkge import datasets\n",
    "d = datasets.load_dataset_from_dir('/app/Antonia/Aladdin/biolink/testing/data/covid')"
   ]
  },
  {
   "cell_type": "code",
   "execution_count": 5,
   "metadata": {},
   "outputs": [],
   "source": [
    "train_data = pd.DataFrame(d.data['train'])\n",
    "relation_count = train_data[1].value_counts()"
   ]
  },
  {
   "cell_type": "code",
   "execution_count": 136,
   "metadata": {},
   "outputs": [
    {
     "name": "stdout",
     "output_type": "stream",
     "text": [
      "/app/Antonia/Aladdin/biolink/COVID results analysis\n"
     ]
    }
   ],
   "source": [
    "!pwd"
   ]
  },
  {
   "cell_type": "code",
   "execution_count": 3,
   "metadata": {},
   "outputs": [],
   "source": [
    "very_very_common = [] # 6000\n",
    "very_common = [] # 10 000 - 40 000\n",
    "common = [] # 1000 - 6000\n",
    "rare = [] # 400 - 700\n",
    "very_rare = [] # 24"
   ]
  },
  {
   "cell_type": "code",
   "execution_count": 6,
   "metadata": {},
   "outputs": [
    {
     "data": {
      "text/plain": [
       "0     66656\n",
       "10    37359\n",
       "7     35722\n",
       "5     35445\n",
       "9     33548\n",
       "8     33415\n",
       "12    29809\n",
       "13    28876\n",
       "14    26917\n",
       "11    26698\n",
       "6     17892\n",
       "1     13007\n",
       "4     12114\n",
       "3      5856\n",
       "16     5453\n",
       "2      5265\n",
       "19     4192\n",
       "18     3049\n",
       "17     2582\n",
       "21     2387\n",
       "15     1966\n",
       "20     1087\n",
       "23      611\n",
       "22      588\n",
       "24      428\n",
       "25      411\n",
       "26       24\n",
       "Name: 1, dtype: int64"
      ]
     },
     "execution_count": 6,
     "metadata": {},
     "output_type": "execute_result"
    }
   ],
   "source": [
    "relation_count"
   ]
  },
  {
   "cell_type": "code",
   "execution_count": 7,
   "metadata": {},
   "outputs": [],
   "source": [
    "for rel, count in dict(relation_count).items():\n",
    "    if count > 60000:\n",
    "        very_very_common.append(rel)\n",
    "    elif count >= 10000 and count <=40000:\n",
    "        very_common.append(rel)\n",
    "    elif count >= 1000 and count <=6000:\n",
    "        common.append(rel)\n",
    "    elif count >= 400 and count <=700:\n",
    "        rare.append(rel)\n",
    "    else:\n",
    "        very_rare.append(rel)"
   ]
  },
  {
   "cell_type": "code",
   "execution_count": 8,
   "metadata": {},
   "outputs": [
    {
     "data": {
      "text/plain": [
       "(1, 12, 9, 4, 1)"
      ]
     },
     "execution_count": 8,
     "metadata": {},
     "output_type": "execute_result"
    }
   ],
   "source": [
    "len(very_very_common), len(very_common), len(common), len(rare), len(very_rare)"
   ]
  },
  {
   "cell_type": "code",
   "execution_count": 9,
   "metadata": {},
   "outputs": [],
   "source": [
    "def how_common(x):\n",
    "    if x in very_very_common:\n",
    "        return 'very very common'\n",
    "    elif x in very_common:\n",
    "        return 'very common'\n",
    "    elif x in common:\n",
    "        return 'common'\n",
    "    elif x in very_rare:\n",
    "        return 'very rare'\n",
    "    else:\n",
    "        return 'rare'"
   ]
  },
  {
   "cell_type": "code",
   "execution_count": 10,
   "metadata": {},
   "outputs": [
    {
     "data": {
      "text/html": [
       "<div>\n",
       "<style scoped>\n",
       "    .dataframe tbody tr th:only-of-type {\n",
       "        vertical-align: middle;\n",
       "    }\n",
       "\n",
       "    .dataframe tbody tr th {\n",
       "        vertical-align: top;\n",
       "    }\n",
       "\n",
       "    .dataframe thead th {\n",
       "        text-align: right;\n",
       "    }\n",
       "</style>\n",
       "<table border=\"1\" class=\"dataframe\">\n",
       "  <thead>\n",
       "    <tr style=\"text-align: right;\">\n",
       "      <th></th>\n",
       "      <th>0</th>\n",
       "      <th>1</th>\n",
       "      <th>2</th>\n",
       "      <th>3</th>\n",
       "      <th>4</th>\n",
       "      <th>5</th>\n",
       "      <th>6</th>\n",
       "      <th>7</th>\n",
       "      <th>8</th>\n",
       "      <th>9</th>\n",
       "    </tr>\n",
       "  </thead>\n",
       "  <tbody>\n",
       "    <tr>\n",
       "      <th>0</th>\n",
       "      <td>GG</td>\n",
       "      <td>8349</td>\n",
       "      <td>0.00</td>\n",
       "      <td>0.00</td>\n",
       "      <td>0.00</td>\n",
       "      <td>inf</td>\n",
       "      <td>0.00</td>\n",
       "      <td>0.00</td>\n",
       "      <td>0.00</td>\n",
       "      <td>inf</td>\n",
       "    </tr>\n",
       "    <tr>\n",
       "      <th>1</th>\n",
       "      <td>U</td>\n",
       "      <td>1549</td>\n",
       "      <td>0.33</td>\n",
       "      <td>7.71</td>\n",
       "      <td>2.16</td>\n",
       "      <td>inf</td>\n",
       "      <td>0.30</td>\n",
       "      <td>7.84</td>\n",
       "      <td>2.74</td>\n",
       "      <td>inf</td>\n",
       "    </tr>\n",
       "    <tr>\n",
       "      <th>2</th>\n",
       "      <td>Te</td>\n",
       "      <td>656</td>\n",
       "      <td>0.40</td>\n",
       "      <td>9.22</td>\n",
       "      <td>2.59</td>\n",
       "      <td>inf</td>\n",
       "      <td>0.38</td>\n",
       "      <td>9.45</td>\n",
       "      <td>2.97</td>\n",
       "      <td>inf</td>\n",
       "    </tr>\n",
       "    <tr>\n",
       "      <th>3</th>\n",
       "      <td>Pr</td>\n",
       "      <td>773</td>\n",
       "      <td>0.00</td>\n",
       "      <td>0.00</td>\n",
       "      <td>0.00</td>\n",
       "      <td>inf</td>\n",
       "      <td>0.00</td>\n",
       "      <td>0.00</td>\n",
       "      <td>0.00</td>\n",
       "      <td>inf</td>\n",
       "    </tr>\n",
       "    <tr>\n",
       "      <th>4</th>\n",
       "      <td>Sa</td>\n",
       "      <td>1474</td>\n",
       "      <td>0.01</td>\n",
       "      <td>1.15</td>\n",
       "      <td>1.15</td>\n",
       "      <td>inf</td>\n",
       "      <td>0.01</td>\n",
       "      <td>1.15</td>\n",
       "      <td>1.15</td>\n",
       "      <td>inf</td>\n",
       "    </tr>\n",
       "  </tbody>\n",
       "</table>\n",
       "</div>"
      ],
      "text/plain": [
       "    0     1     2     3     4    5     6     7     8    9\n",
       "0  GG  8349  0.00  0.00  0.00  inf  0.00  0.00  0.00  inf\n",
       "1   U  1549  0.33  7.71  2.16  inf  0.30  7.84  2.74  inf\n",
       "2  Te   656  0.40  9.22  2.59  inf  0.38  9.45  2.97  inf\n",
       "3  Pr   773  0.00  0.00  0.00  inf  0.00  0.00  0.00  inf\n",
       "4  Sa  1474  0.01  1.15  1.15  inf  0.01  1.15  1.15  inf"
      ]
     },
     "execution_count": 10,
     "metadata": {},
     "output_type": "execute_result"
    }
   ],
   "source": [
    "amie_res_rel = pd.read_csv('../testing/data/covid/res_by_rel_covid.txt', sep='\\t', header=None)\n",
    "amie_res_rel.head()"
   ]
  },
  {
   "cell_type": "code",
   "execution_count": 11,
   "metadata": {},
   "outputs": [],
   "source": [
    "amie_res_rel[0] = amie_res_rel[0].apply(lambda x: d.rel_mappings[x])\n",
    "amie_res_rel.drop(columns=[1,2,3,4,5,6], inplace=True)"
   ]
  },
  {
   "cell_type": "code",
   "execution_count": 12,
   "metadata": {},
   "outputs": [
    {
     "data": {
      "text/html": [
       "<div>\n",
       "<style scoped>\n",
       "    .dataframe tbody tr th:only-of-type {\n",
       "        vertical-align: middle;\n",
       "    }\n",
       "\n",
       "    .dataframe tbody tr th {\n",
       "        vertical-align: top;\n",
       "    }\n",
       "\n",
       "    .dataframe thead th {\n",
       "        text-align: right;\n",
       "    }\n",
       "</style>\n",
       "<table border=\"1\" class=\"dataframe\">\n",
       "  <thead>\n",
       "    <tr style=\"text-align: right;\">\n",
       "      <th></th>\n",
       "      <th>0</th>\n",
       "      <th>7</th>\n",
       "      <th>8</th>\n",
       "      <th>9</th>\n",
       "    </tr>\n",
       "  </thead>\n",
       "  <tbody>\n",
       "    <tr>\n",
       "      <th>0</th>\n",
       "      <td>0</td>\n",
       "      <td>0.00</td>\n",
       "      <td>0.00</td>\n",
       "      <td>inf</td>\n",
       "    </tr>\n",
       "    <tr>\n",
       "      <th>1</th>\n",
       "      <td>1</td>\n",
       "      <td>7.84</td>\n",
       "      <td>2.74</td>\n",
       "      <td>inf</td>\n",
       "    </tr>\n",
       "    <tr>\n",
       "      <th>2</th>\n",
       "      <td>2</td>\n",
       "      <td>9.45</td>\n",
       "      <td>2.97</td>\n",
       "      <td>inf</td>\n",
       "    </tr>\n",
       "    <tr>\n",
       "      <th>3</th>\n",
       "      <td>3</td>\n",
       "      <td>0.00</td>\n",
       "      <td>0.00</td>\n",
       "      <td>inf</td>\n",
       "    </tr>\n",
       "    <tr>\n",
       "      <th>4</th>\n",
       "      <td>4</td>\n",
       "      <td>1.15</td>\n",
       "      <td>1.15</td>\n",
       "      <td>inf</td>\n",
       "    </tr>\n",
       "  </tbody>\n",
       "</table>\n",
       "</div>"
      ],
      "text/plain": [
       "   0     7     8    9\n",
       "0  0  0.00  0.00  inf\n",
       "1  1  7.84  2.74  inf\n",
       "2  2  9.45  2.97  inf\n",
       "3  3  0.00  0.00  inf\n",
       "4  4  1.15  1.15  inf"
      ]
     },
     "execution_count": 12,
     "metadata": {},
     "output_type": "execute_result"
    }
   ],
   "source": [
    "amie_res_rel.head()"
   ]
  },
  {
   "cell_type": "code",
   "execution_count": 13,
   "metadata": {},
   "outputs": [
    {
     "data": {
      "text/html": [
       "<div>\n",
       "<style scoped>\n",
       "    .dataframe tbody tr th:only-of-type {\n",
       "        vertical-align: middle;\n",
       "    }\n",
       "\n",
       "    .dataframe tbody tr th {\n",
       "        vertical-align: top;\n",
       "    }\n",
       "\n",
       "    .dataframe thead th {\n",
       "        text-align: right;\n",
       "    }\n",
       "</style>\n",
       "<table border=\"1\" class=\"dataframe\">\n",
       "  <thead>\n",
       "    <tr style=\"text-align: right;\">\n",
       "      <th></th>\n",
       "      <th>Relation</th>\n",
       "      <th>h@10</th>\n",
       "      <th>h@1</th>\n",
       "      <th>MRR</th>\n",
       "    </tr>\n",
       "  </thead>\n",
       "  <tbody>\n",
       "    <tr>\n",
       "      <th>0</th>\n",
       "      <td>0</td>\n",
       "      <td>0.00</td>\n",
       "      <td>0.00</td>\n",
       "      <td>inf</td>\n",
       "    </tr>\n",
       "    <tr>\n",
       "      <th>1</th>\n",
       "      <td>1</td>\n",
       "      <td>7.84</td>\n",
       "      <td>2.74</td>\n",
       "      <td>inf</td>\n",
       "    </tr>\n",
       "    <tr>\n",
       "      <th>2</th>\n",
       "      <td>2</td>\n",
       "      <td>9.45</td>\n",
       "      <td>2.97</td>\n",
       "      <td>inf</td>\n",
       "    </tr>\n",
       "    <tr>\n",
       "      <th>3</th>\n",
       "      <td>3</td>\n",
       "      <td>0.00</td>\n",
       "      <td>0.00</td>\n",
       "      <td>inf</td>\n",
       "    </tr>\n",
       "    <tr>\n",
       "      <th>4</th>\n",
       "      <td>4</td>\n",
       "      <td>1.15</td>\n",
       "      <td>1.15</td>\n",
       "      <td>inf</td>\n",
       "    </tr>\n",
       "  </tbody>\n",
       "</table>\n",
       "</div>"
      ],
      "text/plain": [
       "   Relation  h@10   h@1  MRR\n",
       "0         0  0.00  0.00  inf\n",
       "1         1  7.84  2.74  inf\n",
       "2         2  9.45  2.97  inf\n",
       "3         3  0.00  0.00  inf\n",
       "4         4  1.15  1.15  inf"
      ]
     },
     "execution_count": 13,
     "metadata": {},
     "output_type": "execute_result"
    }
   ],
   "source": [
    "amie_res_rel.columns = ['Relation', 'h@10', 'h@1', 'MRR']\n",
    "amie_res_rel.head()"
   ]
  },
  {
   "cell_type": "code",
   "execution_count": 14,
   "metadata": {},
   "outputs": [],
   "source": [
    "amie_res_rel['h@10'] = amie_res_rel['h@10'].apply(lambda x: x/100)"
   ]
  },
  {
   "cell_type": "code",
   "execution_count": 15,
   "metadata": {},
   "outputs": [
    {
     "data": {
      "text/html": [
       "<div>\n",
       "<style scoped>\n",
       "    .dataframe tbody tr th:only-of-type {\n",
       "        vertical-align: middle;\n",
       "    }\n",
       "\n",
       "    .dataframe tbody tr th {\n",
       "        vertical-align: top;\n",
       "    }\n",
       "\n",
       "    .dataframe thead th {\n",
       "        text-align: right;\n",
       "    }\n",
       "</style>\n",
       "<table border=\"1\" class=\"dataframe\">\n",
       "  <thead>\n",
       "    <tr style=\"text-align: right;\">\n",
       "      <th></th>\n",
       "      <th>Relation</th>\n",
       "      <th>h@10</th>\n",
       "      <th>h@1</th>\n",
       "      <th>MRR</th>\n",
       "    </tr>\n",
       "  </thead>\n",
       "  <tbody>\n",
       "    <tr>\n",
       "      <th>0</th>\n",
       "      <td>0</td>\n",
       "      <td>0.0000</td>\n",
       "      <td>0.00</td>\n",
       "      <td>inf</td>\n",
       "    </tr>\n",
       "    <tr>\n",
       "      <th>1</th>\n",
       "      <td>1</td>\n",
       "      <td>0.0784</td>\n",
       "      <td>2.74</td>\n",
       "      <td>inf</td>\n",
       "    </tr>\n",
       "    <tr>\n",
       "      <th>2</th>\n",
       "      <td>2</td>\n",
       "      <td>0.0945</td>\n",
       "      <td>2.97</td>\n",
       "      <td>inf</td>\n",
       "    </tr>\n",
       "    <tr>\n",
       "      <th>3</th>\n",
       "      <td>3</td>\n",
       "      <td>0.0000</td>\n",
       "      <td>0.00</td>\n",
       "      <td>inf</td>\n",
       "    </tr>\n",
       "    <tr>\n",
       "      <th>4</th>\n",
       "      <td>4</td>\n",
       "      <td>0.0115</td>\n",
       "      <td>1.15</td>\n",
       "      <td>inf</td>\n",
       "    </tr>\n",
       "  </tbody>\n",
       "</table>\n",
       "</div>"
      ],
      "text/plain": [
       "   Relation    h@10   h@1  MRR\n",
       "0         0  0.0000  0.00  inf\n",
       "1         1  0.0784  2.74  inf\n",
       "2         2  0.0945  2.97  inf\n",
       "3         3  0.0000  0.00  inf\n",
       "4         4  0.0115  1.15  inf"
      ]
     },
     "execution_count": 15,
     "metadata": {},
     "output_type": "execute_result"
    }
   ],
   "source": [
    "amie_res_rel.head()"
   ]
  },
  {
   "cell_type": "code",
   "execution_count": 16,
   "metadata": {},
   "outputs": [],
   "source": [
    "amie_res_rel['rel_occurrence'] =  amie_res_rel['Relation'].apply(lambda x: relation_count[x])"
   ]
  },
  {
   "cell_type": "code",
   "execution_count": 17,
   "metadata": {},
   "outputs": [],
   "source": [
    "ce_cp['relation label'] = ce_cp['Relation'].apply(lambda x: how_common(x))\n",
    "ce_tuck['relation label'] = ce_tuck['Relation'].apply(lambda x: how_common(x))\n",
    "bce_tuck['relation label'] = bce_tuck['Relation'].apply(lambda x: how_common(x))\n",
    "bce_cp['relation label'] = bce_cp['Relation'].apply(lambda x: how_common(x))\n",
    "\n",
    "\n",
    "amie_res_rel['relation label'] = amie_res_rel['Relation'].apply(lambda x: how_common(x))"
   ]
  },
  {
   "cell_type": "code",
   "execution_count": null,
   "metadata": {},
   "outputs": [],
   "source": [
    "def plot_relation_common(dfs, labels, groupby_l = 'relation label', save=None, mean=False):\n",
    "    \n",
    "    palette = {'CE Complex': 'blue',\n",
    "              'BCE Complex': 'royalblue',\n",
    "              'CE Tucker': 'indianred',\n",
    "              'BCE Tucker': 'salmon', \n",
    "              'AMIE': 'mediumpurple'}\n",
    "    concat = []\n",
    "    for i,df in enumerate(dfs):\n",
    "        if mean:\n",
    "            d = df.groupby(groupby_l)['h@10'].mean().reset_index()\n",
    "        else:\n",
    "            d = df.groupby(groupby_l)['h@10'].sum().reset_index()\n",
    "        if len(labels) > 0:\n",
    "            d['label'] = labels[i]\n",
    "        concat.append(d)\n",
    "    \n",
    "    conc = pd.concat(concat)\n",
    "    f = plt.figure()\n",
    "    sns.barplot(x='relation label', y='h@10', hue = 'label', data=conc, order=['very rare', 'rare', 'common', 'very common', 'very very common'],\\\n",
    "                palette= palette)\n",
    "    plt.xticks(rotation=15)\n",
    "    if mean:\n",
    "        what = 'Mean'\n",
    "    else:\n",
    "        what = 'Sum'\n",
    "    plt.ylabel(what + ' hits@10 per relation')\n",
    "    plt.xlabel('Frequency of relaiton')\n",
    "    plt.title('H@10 model comparison performance per relation')\n",
    "    plt.tight_layout()\n",
    "    plt.show()\n",
    "    if save is not None:\n",
    "        plt.tight_layout()\n",
    "        f.savefig(save + '_mean_' + str(mean) + '.jpg')"
   ]
  },
  {
   "cell_type": "code",
   "execution_count": 52,
   "metadata": {},
   "outputs": [
    {
     "data": {
      "image/png": "[encoded data removed]",
      "text/plain": [
       "<Figure size 432x288 with 1 Axes>"
      ]
     },
     "metadata": {
      "needs_background": "light"
     },
     "output_type": "display_data"
    }
   ],
   "source": [
    "plot_relation_common([ce_cp, ce_tuck, amie_res_rel], ['CE Complex', 'CE Tucker', 'AMIE'])"
   ]
  },
  {
   "cell_type": "code",
   "execution_count": 54,
   "metadata": {},
   "outputs": [
    {
     "data": {
      "image/png": "[encoded data removed]",
      "text/plain": [
       "<Figure size 432x288 with 1 Axes>"
      ]
     },
     "metadata": {
      "needs_background": "light"
     },
     "output_type": "display_data"
    }
   ],
   "source": [
    "plot_relation_common([ce_cp, ce_tuck, amie_res_rel], ['CE Complex', 'CE Tucker', 'AMIE'], mean=True)"
   ]
  },
  {
   "cell_type": "code",
   "execution_count": 55,
   "metadata": {},
   "outputs": [
    {
     "data": {
      "image/png": "[encoded data removed]",
      "text/plain": [
       "<Figure size 432x288 with 1 Axes>"
      ]
     },
     "metadata": {
      "needs_background": "light"
     },
     "output_type": "display_data"
    },
    {
     "data": {
      "text/plain": [
       "<Figure size 432x288 with 0 Axes>"
      ]
     },
     "metadata": {},
     "output_type": "display_data"
    }
   ],
   "source": [
    "plot_relation_common([ce_cp, bce_cp, ce_tuck, bce_tuck, amie_res_rel], ['CE Complex', 'BCE Complex', 'CE Tucker', 'BCE Tucker', 'AMIE'], mean=True, save='covid_rel_comparisons')"
   ]
  },
  {
   "cell_type": "code",
   "execution_count": 56,
   "metadata": {},
   "outputs": [
    {
     "data": {
      "image/png": "[encoded data removed]",
      "text/plain": [
       "<Figure size 432x288 with 1 Axes>"
      ]
     },
     "metadata": {
      "needs_background": "light"
     },
     "output_type": "display_data"
    },
    {
     "data": {
      "text/plain": [
       "<Figure size 432x288 with 0 Axes>"
      ]
     },
     "metadata": {},
     "output_type": "display_data"
    }
   ],
   "source": [
    "plot_relation_common([ce_cp, bce_cp, ce_tuck, bce_tuck, amie_res_rel], ['CE Complex', 'BCE Complex', 'CE Tucker', 'BCE Tucker', 'AMIE'], save='covid_relation_comparisions')"
   ]
  },
  {
   "cell_type": "markdown",
   "metadata": {},
   "source": [
    "# Entities v rare etc"
   ]
  },
  {
   "cell_type": "code",
   "execution_count": 83,
   "metadata": {},
   "outputs": [],
   "source": [
    "def get_entities_info(path):\n",
    "    with open(path, 'r') as f:\n",
    "        cplex_cp_ents = []\n",
    "        for l in f.readlines():\n",
    "            res = []\n",
    "\n",
    "            if 'VERYRARE HEAD' in l:\n",
    "                l = l.split()\n",
    "                mrr = l[5]\n",
    "                h1 = l[7]\n",
    "                h3 = l[9]\n",
    "                h10 = l[11]\n",
    "                res.append('very rare head')\n",
    "            elif 'VERYRARE TAIL' in l:\n",
    "                l = l.split()\n",
    "                mrr = l[5]\n",
    "                h1 = l[7]\n",
    "                h3 = l[9]\n",
    "                h10 = l[11]\n",
    "                res.append('very rare tail')\n",
    "            elif 'VERYVERY-COMMON HEAD' in l:\n",
    "                l = l.split()\n",
    "                mrr = l[5]\n",
    "                h1 = l[7]\n",
    "                h3 = l[9]\n",
    "                h10 = l[11]\n",
    "                res.append('very very common head')\n",
    "            elif 'VERYVERY-COMMON TAIL' in l:\n",
    "                l = l.split()\n",
    "                mrr = l[5]\n",
    "                h1 = l[7]\n",
    "                h3 = l[9]\n",
    "                h10 = l[11]\n",
    "                res.append('very very common tail')\n",
    "            elif 'VERY-COMMON HEAD' in l:\n",
    "                l = l.split()\n",
    "                mrr = l[5]\n",
    "                h1 = l[7]\n",
    "                h3 = l[9]\n",
    "                h10 = l[11]\n",
    "                res.append('very common head')\n",
    "            elif 'VERY-COMMON TAIL' in l:\n",
    "                l = l.split()\n",
    "                mrr = l[5]\n",
    "                h1 = l[7]\n",
    "                h3 = l[9]\n",
    "                h10 = l[11]\n",
    "                res.append('very common tail')\n",
    "            elif 'COMMON- HEAD' in l:\n",
    "                l = l.split()\n",
    "                mrr = l[5]\n",
    "                h1 = l[7]\n",
    "                h3 = l[9]\n",
    "                h10 = l[11]\n",
    "                res.append('common head')\n",
    "            elif 'COMMON- TAIL' in l:\n",
    "                l = l.split()\n",
    "                mrr = l[5]\n",
    "                h1 = l[7]\n",
    "                h3 = l[9]\n",
    "                h10 = l[11]\n",
    "                res.append('common tail')\n",
    "            elif 'RARE HEAD' in l:\n",
    "                l = l.split()\n",
    "                mrr = l[5]\n",
    "                h1 = l[7]\n",
    "                h3 = l[9]\n",
    "                h10 = l[11]\n",
    "                res.append('rare head')\n",
    "            elif 'RARE TAIL' in l:\n",
    "                l = l.split()\n",
    "                mrr = l[5]\n",
    "                h1 = l[7]\n",
    "                h3 = l[9]\n",
    "                h10 = l[11]\n",
    "                res.append('rare tail')\n",
    "            else:\n",
    "                continue\n",
    "            res += [float(mrr), float(h1), float(h3), float(h10)]\n",
    "            cplex_cp_ents.append(res)\n",
    "        return cplex_cp_ents"
   ]
  },
  {
   "cell_type": "code",
   "execution_count": 84,
   "metadata": {},
   "outputs": [],
   "source": [
    "cplex_ents = get_entities_info('CE_CP_NEWENTS.log')\n",
    "bce_cplex_ents = get_entities_info('BCE_CP_NEWENTS.log')\n",
    "tuck_ents = get_entities_info('CE_T_NEWENTS.log')\n",
    "bce_tuck_ents = get_entities_info('NEW_ENTS_ANAL.log')"
   ]
  },
  {
   "cell_type": "code",
   "execution_count": 86,
   "metadata": {},
   "outputs": [
    {
     "data": {
      "text/plain": [
       "10"
      ]
     },
     "execution_count": 86,
     "metadata": {},
     "output_type": "execute_result"
    }
   ],
   "source": [
    "len(bce_tuck_ents)"
   ]
  },
  {
   "cell_type": "code",
   "execution_count": 87,
   "metadata": {},
   "outputs": [],
   "source": [
    "all_ents = cplex_ents + bce_cplex_ents + tuck_ents + bce_tuck_ents\n",
    "df = pd.DataFrame(all_ents)\n",
    "df['label'] = (['CE Complex'] * 10)+ (['BCE Complex'] * 10) + \\\n",
    "                (['CE Tucker'] * 10) + (['BCE Tucker'] * 10)"
   ]
  },
  {
   "cell_type": "code",
   "execution_count": 111,
   "metadata": {},
   "outputs": [],
   "source": [
    "order = ['CE Complex', 'BCE Complex', 'CE Tucker', 'BCE Tucker']\n",
    "def plot_entity_common(dfs, labels, what='head', mrr=False, save=None):\n",
    "    \n",
    "    \n",
    "    df = dfs[dfs[0].str.contains(what)]\n",
    "    \n",
    "    palette = {'CE Complex': 'blue',\n",
    "              'BCE Complex': 'royalblue',\n",
    "              'CE Tucker': 'indianred',\n",
    "              'BCE Tucker': 'salmon', \n",
    "              'AMIE': 'mediumpurple'}\n",
    "#     concat = []\n",
    "#     for i,df in enumerate(dfs):\n",
    "    if mrr:\n",
    "        d = df.groupby([0, 'label'])[1].mean().reset_index()\n",
    "    else:\n",
    "        d = df.groupby([0, 'label'])[4].mean().reset_index()\n",
    "    d = d.sort_values(by='label', key=lambda col: col.apply(lambda x: np.where(np.array(order) == x)))\n",
    "    if len(labels) > 0:\n",
    "        d['label'] = labels[i]\n",
    "#     concat.append(d)\n",
    "    \n",
    "#     conc = pd.concat(concat)\n",
    "    f = plt.figure()\n",
    "    if mrr:\n",
    "        g = sns.barplot(x=0, y=1, hue = 'label', data=d, order=['very rare ' + what, 'rare ' + what, 'common ' + what, 'very common ' + what, 'very very common ' + what],\\\n",
    "                    palette= palette)\n",
    "    else:\n",
    "        g = sns.barplot(x=0, y=4, hue = 'label', data=d, order=['very rare ' + what, 'rare ' + what, 'common ' + what, 'very common ' + what, 'very very common ' + what],\\\n",
    "                    palette= palette)\n",
    "    \n",
    "    plt.xticks(rotation=15)\n",
    "    plt.xlabel('Rarity of entity predicted')\n",
    "    if mrr:\n",
    "        plt.ylabel('MRR')\n",
    "        plt.title('MRR model comparison for ' + what + ' prediction')\n",
    "    else:\n",
    "        plt.ylabel('Hits@10')\n",
    "        plt.title('Hits@10 model comparison for ' + what + ' prediction')\n",
    "    if save is not None:\n",
    "        plt.tight_layout()\n",
    "        f.savefig(save + '_mrr_' + str(mrr) + '.jpg')\n",
    "    plt.show()"
   ]
  },
  {
   "cell_type": "code",
   "execution_count": 113,
   "metadata": {},
   "outputs": [
    {
     "data": {
      "image/png": "[encoded data removed]",
      "text/plain": [
       "<Figure size 432x288 with 1 Axes>"
      ]
     },
     "metadata": {
      "needs_background": "light"
     },
     "output_type": "display_data"
    }
   ],
   "source": [
    "plot_entity_common(df, [], mrr=True, save='heade_deep_comparison_covid')"
   ]
  },
  {
   "cell_type": "code",
   "execution_count": 114,
   "metadata": {},
   "outputs": [
    {
     "data": {
      "image/png": "[encoded data removed]",
      "text/plain": [
       "<Figure size 432x288 with 1 Axes>"
      ]
     },
     "metadata": {
      "needs_background": "light"
     },
     "output_type": "display_data"
    }
   ],
   "source": [
    "plot_entity_common(df, [], what='tail', mrr=True, save='tail_deep_comparison_covid')"
   ]
  },
  {
   "cell_type": "code",
   "execution_count": 115,
   "metadata": {},
   "outputs": [
    {
     "data": {
      "image/png": "[encoded data removed]",
      "text/plain": [
       "<Figure size 432x288 with 1 Axes>"
      ]
     },
     "metadata": {
      "needs_background": "light"
     },
     "output_type": "display_data"
    }
   ],
   "source": [
    "plot_entity_common(df, [], mrr=False, save='head_deep_comparison_covid')"
   ]
  },
  {
   "cell_type": "code",
   "execution_count": 117,
   "metadata": {},
   "outputs": [
    {
     "data": {
      "image/png": "[encoded data removed]",
      "text/plain": [
       "<Figure size 432x288 with 1 Axes>"
      ]
     },
     "metadata": {
      "needs_background": "light"
     },
     "output_type": "display_data"
    }
   ],
   "source": [
    "plot_entity_common(df, [], what='tail', mrr=False, save='tail_deep_comparison_covid')"
   ]
  },
  {
   "cell_type": "markdown",
   "metadata": {},
   "source": [
    "## Entities"
   ]
  },
  {
   "cell_type": "code",
   "execution_count": 263,
   "metadata": {},
   "outputs": [
    {
     "name": "stdout",
     "output_type": "stream",
     "text": [
      "/app/Antonia/Aladdin/biolink/COVID results analysis\n"
     ]
    }
   ],
   "source": [
    "!pwd"
   ]
  },
  {
   "cell_type": "code",
   "execution_count": 48,
   "metadata": {},
   "outputs": [],
   "source": [
    "def get_entities_info(path):\n",
    "    with open(path, 'r') as f:\n",
    "        cplex_cp_ents = []\n",
    "        for l in f.readlines():\n",
    "            res = []\n",
    "\n",
    "            if 'MID-RARE HEAD' in l:\n",
    "                l = l.split()\n",
    "                mrr = l[5]\n",
    "                h1 = l[7]\n",
    "                h3 = l[9]\n",
    "                h10 = l[11]\n",
    "                res.append('midrare head')\n",
    "            elif 'MID-RARE TAIL' in l:\n",
    "                l = l.split()\n",
    "                mrr = l[5]\n",
    "                h1 = l[7]\n",
    "                h3 = l[9]\n",
    "                h10 = l[11]\n",
    "                res.append('midrare tail')\n",
    "            elif 'NOT-RARE HEAD' in l:\n",
    "                l = l.split()\n",
    "                mrr = l[5]\n",
    "                h1 = l[7]\n",
    "                h3 = l[9]\n",
    "                h10 = l[11]\n",
    "                res.append('notrare head')\n",
    "            elif 'NOT-RARE TAIL' in l:\n",
    "                l = l.split()\n",
    "                mrr = l[5]\n",
    "                h1 = l[7]\n",
    "                h3 = l[9]\n",
    "                h10 = l[11]\n",
    "                res.append('notrare tail')\n",
    "            elif 'RARE HEAD' in l:\n",
    "                l = l.split()\n",
    "                mrr = l[5]\n",
    "                h1 = l[7]\n",
    "                h3 = l[9]\n",
    "                h10 = l[11]\n",
    "                res.append('rare head')\n",
    "            elif 'RARE TAIL' in l:\n",
    "                l = l.split()\n",
    "                mrr = l[5]\n",
    "                h1 = l[7]\n",
    "                h3 = l[9]\n",
    "                h10 = l[11]\n",
    "                res.append('rare tail')\n",
    "            else:\n",
    "                continue\n",
    "            res += [float(mrr), float(h1), float(h3), float(h10)]\n",
    "            cplex_cp_ents.append(res)\n",
    "        return cplex_cp_ents"
   ]
  },
  {
   "cell_type": "code",
   "execution_count": 49,
   "metadata": {},
   "outputs": [],
   "source": [
    "cplex_ents = get_entities_info('../CORRECT_MRR_CPLEX.log')\n",
    "bce_cplex_ents = get_entities_info('../CORRECT_MRR_BCE_COVID_COMPLEX.log')\n",
    "tuck_ents = get_entities_info('../CORRECT_MRR_COVID_CE_TUCKER.log')\n",
    "bce_tuck_ents = get_entities_info('../rare_ents_bce_tuck.log')"
   ]
  },
  {
   "cell_type": "code",
   "execution_count": 34,
   "metadata": {},
   "outputs": [
    {
     "data": {
      "text/plain": [
       "[['rare head', 0.027804, 0.020134, 0.026846, 0.040268],\n",
       " ['rare tail', 0.008225, 0.0, 0.006623, 0.019868],\n",
       " ['midrare head', 0.150164, 0.088133, 0.167894, 0.269689],\n",
       " ['midrare tail', 0.1612, 0.094385, 0.183619, 0.289725],\n",
       " ['notrare head', 0.073953, 0.029601, 0.069314, 0.156605],\n",
       " ['notrare tail', 0.074859, 0.029943, 0.070352, 0.156734]]"
      ]
     },
     "execution_count": 34,
     "metadata": {},
     "output_type": "execute_result"
    }
   ],
   "source": [
    "bce_tuck_ents"
   ]
  },
  {
   "cell_type": "code",
   "execution_count": 35,
   "metadata": {},
   "outputs": [],
   "source": [
    "all_ents = cplex_ents + bce_cplex_ents + tuck_ents + bce_tuck_ents\n",
    "df = pd.DataFrame(all_ents)\n",
    "df['label'] = (['CE Complex'] * 6)+ (['BCE Complex'] * 6) + \\\n",
    "                (['CE Tucker'] * 6) + (['BCE Tucker'] * 6)"
   ]
  },
  {
   "cell_type": "code",
   "execution_count": 36,
   "metadata": {},
   "outputs": [
    {
     "data": {
      "text/html": [
       "<div>\n",
       "<style scoped>\n",
       "    .dataframe tbody tr th:only-of-type {\n",
       "        vertical-align: middle;\n",
       "    }\n",
       "\n",
       "    .dataframe tbody tr th {\n",
       "        vertical-align: top;\n",
       "    }\n",
       "\n",
       "    .dataframe thead th {\n",
       "        text-align: right;\n",
       "    }\n",
       "</style>\n",
       "<table border=\"1\" class=\"dataframe\">\n",
       "  <thead>\n",
       "    <tr style=\"text-align: right;\">\n",
       "      <th></th>\n",
       "      <th>0</th>\n",
       "      <th>1</th>\n",
       "      <th>2</th>\n",
       "      <th>3</th>\n",
       "      <th>4</th>\n",
       "      <th>label</th>\n",
       "    </tr>\n",
       "  </thead>\n",
       "  <tbody>\n",
       "    <tr>\n",
       "      <th>0</th>\n",
       "      <td>rare head</td>\n",
       "      <td>0.035044</td>\n",
       "      <td>0.020134</td>\n",
       "      <td>0.026846</td>\n",
       "      <td>0.067114</td>\n",
       "      <td>CE Complex</td>\n",
       "    </tr>\n",
       "    <tr>\n",
       "      <th>1</th>\n",
       "      <td>rare tail</td>\n",
       "      <td>0.011228</td>\n",
       "      <td>0.000000</td>\n",
       "      <td>0.013245</td>\n",
       "      <td>0.019868</td>\n",
       "      <td>CE Complex</td>\n",
       "    </tr>\n",
       "    <tr>\n",
       "      <th>2</th>\n",
       "      <td>midrare head</td>\n",
       "      <td>0.197601</td>\n",
       "      <td>0.131797</td>\n",
       "      <td>0.219629</td>\n",
       "      <td>0.324002</td>\n",
       "      <td>CE Complex</td>\n",
       "    </tr>\n",
       "    <tr>\n",
       "      <th>3</th>\n",
       "      <td>midrare tail</td>\n",
       "      <td>0.208176</td>\n",
       "      <td>0.138777</td>\n",
       "      <td>0.229913</td>\n",
       "      <td>0.343037</td>\n",
       "      <td>CE Complex</td>\n",
       "    </tr>\n",
       "    <tr>\n",
       "      <th>4</th>\n",
       "      <td>notrare head</td>\n",
       "      <td>0.251939</td>\n",
       "      <td>0.165334</td>\n",
       "      <td>0.275874</td>\n",
       "      <td>0.422410</td>\n",
       "      <td>CE Complex</td>\n",
       "    </tr>\n",
       "  </tbody>\n",
       "</table>\n",
       "</div>"
      ],
      "text/plain": [
       "              0         1         2         3         4       label\n",
       "0     rare head  0.035044  0.020134  0.026846  0.067114  CE Complex\n",
       "1     rare tail  0.011228  0.000000  0.013245  0.019868  CE Complex\n",
       "2  midrare head  0.197601  0.131797  0.219629  0.324002  CE Complex\n",
       "3  midrare tail  0.208176  0.138777  0.229913  0.343037  CE Complex\n",
       "4  notrare head  0.251939  0.165334  0.275874  0.422410  CE Complex"
      ]
     },
     "execution_count": 36,
     "metadata": {},
     "output_type": "execute_result"
    }
   ],
   "source": [
    "df.head()"
   ]
  },
  {
   "cell_type": "code",
   "execution_count": 58,
   "metadata": {},
   "outputs": [],
   "source": [
    "d = df.groupby([0, 'label'])[1].sum().reset_index()\n",
    "# sns.barplot(x=0, y=1, hue = 'label', data=d, order=['rare', 'midrare', 'notrare'],\\)"
   ]
  },
  {
   "cell_type": "code",
   "execution_count": 78,
   "metadata": {},
   "outputs": [],
   "source": [
    "order = ['CE Complex', 'BCE Complex', 'CE Tucker', 'BCE Tucker']\n",
    "def plot_entity_common(dfs, labels, what='head', mrr=False, save=None):\n",
    "    \n",
    "    \n",
    "    df = dfs[dfs[0].str.contains(what)]\n",
    "    \n",
    "    palette = {'CE Complex': 'blue',\n",
    "              'BCE Complex': 'royalblue',\n",
    "              'CE Tucker': 'indianred',\n",
    "              'BCE Tucker': 'salmon', \n",
    "              'AMIE': 'mediumpurple'}\n",
    "#     concat = []\n",
    "#     for i,df in enumerate(dfs):\n",
    "    if mrr:\n",
    "        d = df.groupby([0, 'label'])[1].mean().reset_index()\n",
    "    else:\n",
    "        d = df.groupby([0, 'label'])[4].mean().reset_index()\n",
    "    d = d.sort_values(by='label', key=lambda col: col.apply(lambda x: np.where(np.array(order) == x)))\n",
    "    if len(labels) > 0:\n",
    "        d['label'] = labels[i]\n",
    "#     concat.append(d)\n",
    "    \n",
    "#     conc = pd.concat(concat)\n",
    "    f = plt.figure()\n",
    "    if mrr:\n",
    "        sns.barplot(x=0, y=1, hue = 'label', data=d, order=['rare ' + what, 'midrare ' + what, 'notrare ' + what],\\\n",
    "                    palette= palette)\n",
    "    else:\n",
    "        sns.barplot(x=0, y=4, hue = 'label', data=d, order=['rare ' + what, 'midrare ' + what, 'notrare ' + what],\\\n",
    "                    palette= palette)\n",
    "    plt.xticks(rotation=15)\n",
    "    plt.xlabel('Rarity of entity predicted')\n",
    "    if mrr:\n",
    "        plt.ylabel('MRR')\n",
    "        plt.title('MRR model comparison for ' + what + ' prediction')\n",
    "    else:\n",
    "        plt.ylabel('Hits@10')\n",
    "        plt.title('Hits@10 model comparison for ' + what + ' prediction')\n",
    "    if save is not None:\n",
    "        plt.tight_layout()\n",
    "        f.savefig(save + '_mrr_' + str(mrr) + '.jpg')\n",
    "    plt.show()"
   ]
  },
  {
   "cell_type": "code",
   "execution_count": 75,
   "metadata": {},
   "outputs": [
    {
     "data": {
      "image/png": "[encoded data removed]",
      "text/plain": [
       "<Figure size 432x288 with 1 Axes>"
      ]
     },
     "metadata": {
      "needs_background": "light"
     },
     "output_type": "display_data"
    }
   ],
   "source": [
    "plot_entity_common(df, [], mrr=True, save='head_comparison_covid')"
   ]
  },
  {
   "cell_type": "code",
   "execution_count": 80,
   "metadata": {},
   "outputs": [
    {
     "data": {
      "image/png": "[encoded data removed]",
      "text/plain": [
       "<Figure size 432x288 with 1 Axes>"
      ]
     },
     "metadata": {
      "needs_background": "light"
     },
     "output_type": "display_data"
    }
   ],
   "source": [
    "plot_entity_common(df, [], mrr=False, save='head_comparison_covid')"
   ]
  },
  {
   "cell_type": "code",
   "execution_count": 79,
   "metadata": {},
   "outputs": [
    {
     "data": {
      "image/png": "[encoded data removed]",
      "text/plain": [
       "<Figure size 432x288 with 1 Axes>"
      ]
     },
     "metadata": {
      "needs_background": "light"
     },
     "output_type": "display_data"
    }
   ],
   "source": [
    "plot_entity_common(df, [], what='tail',mrr=True, save='tail_comparison_covid')"
   ]
  },
  {
   "cell_type": "code",
   "execution_count": 81,
   "metadata": {},
   "outputs": [
    {
     "data": {
      "image/png": "[encoded data removed]",
      "text/plain": [
       "<Figure size 432x288 with 1 Axes>"
      ]
     },
     "metadata": {
      "needs_background": "light"
     },
     "output_type": "display_data"
    }
   ],
   "source": [
    "plot_entity_common(df, [], what='tail',mrr=False, save='tail_comparison_covid')"
   ]
  },
  {
   "cell_type": "markdown",
   "metadata": {},
   "source": [
    "----\n",
    "# Other experiments"
   ]
  },
  {
   "cell_type": "code",
   "execution_count": 120,
   "metadata": {},
   "outputs": [],
   "source": [
    "import numpy as np\n",
    "ce_cp['rel_occurrence'] = ce_cp['Relation'].apply(lambda x: np.log(relation_count[x]))\n",
    "ce_tuck['rel_occurrence'] = ce_tuck['Relation'].apply(lambda x: np.log(relation_count[x]))\n"
   ]
  },
  {
   "cell_type": "code",
   "execution_count": 121,
   "metadata": {},
   "outputs": [],
   "source": [
    "bce_cp['rel_occurrence'] = bce_cp['Relation'].apply(lambda x: np.log(relation_count[x]))\n",
    "bce_tuck['rel_occurrence'] = bce_tuck['Relation'].apply(lambda x: np.log(relation_count[x]))"
   ]
  },
  {
   "cell_type": "code",
   "execution_count": 133,
   "metadata": {},
   "outputs": [],
   "source": [
    "ce_cp['rel_occurrence'] = ce_cp['Relation'].apply(lambda x: relation_count[x])\n",
    "ce_tuck['rel_occurrence'] = ce_tuck['Relation'].apply(lambda x: relation_count[x])\n",
    "bce_cp['rel_occurrence'] = bce_cp['Relation'].apply(lambda x: relation_count[x])\n",
    "bce_tuck['rel_occurrence'] = bce_tuck['Relation'].apply(lambda x: relation_count[x])\n"
   ]
  },
  {
   "cell_type": "code",
   "execution_count": 166,
   "metadata": {},
   "outputs": [],
   "source": [
    "def plot_group(df1, df2, label1=None, label2=None, mrr=True, bar=True):\n",
    "    if mrr:\n",
    "        y_l = 'MRR'\n",
    "    else:\n",
    "        y_l = 'h@10'\n",
    "    if label1 is not None:\n",
    "        df1['label'] = label1\n",
    "    if label2 is not None:\n",
    "        df2['label'] = label2\n",
    "    conc = pd.concat([df1, df2])\n",
    "    \n",
    "#     fig, ax = plt.subplots()\n",
    "#     ax.set(xscale=\"log\")\n",
    "#     sns.line(x=\"rel_occurrence\", y=\"MRR\", hue='label', data=conc, ax=ax)\n",
    "#     plt.show()\n",
    "    \n",
    "    \n",
    "    if bar:\n",
    "        fig, ax = plt.subplots()\n",
    "#         ax.set(xscale=\"log\")\n",
    "        sns.barplot(x='rel_occurrence', y=y_l, hue='label', data=conc, ax=ax)\n",
    "        plt.show()\n",
    "    else:\n",
    "        fig, ax = plt.subplots()\n",
    "#         ax.set(xscale=\"log\")\n",
    "        sns.lineplot(x='rel_occurrence', y=y_l, hue='label', data=conc, ax=ax)\n",
    "        plt.show()\n",
    "        \n",
    "        \n",
    "        \n",
    "    return"
   ]
  },
  {
   "cell_type": "code",
   "execution_count": null,
   "metadata": {},
   "outputs": [],
   "source": []
  },
  {
   "cell_type": "code",
   "execution_count": 132,
   "metadata": {},
   "outputs": [
    {
     "data": {
      "image/png": "[encoded data removed]",
      "text/plain": [
       "<Figure size 432x288 with 1 Axes>"
      ]
     },
     "metadata": {
      "needs_background": "light"
     },
     "output_type": "display_data"
    }
   ],
   "source": [
    "plot_group(ce_cp, bce_cp, mrr=False, bar=True)"
   ]
  },
  {
   "cell_type": "code",
   "execution_count": 135,
   "metadata": {},
   "outputs": [
    {
     "data": {
      "image/png": "[encoded data removed]",
      "text/plain": [
       "<Figure size 432x288 with 1 Axes>"
      ]
     },
     "metadata": {
      "needs_background": "light"
     },
     "output_type": "display_data"
    }
   ],
   "source": [
    "plot_group(ce_tuck, bce_tuck, mrr=True, bar=True)"
   ]
  },
  {
   "cell_type": "code",
   "execution_count": 138,
   "metadata": {},
   "outputs": [
    {
     "name": "stdout",
     "output_type": "stream",
     "text": [
      "/app/Antonia/Aladdin/biolink/COVID results analysis\n"
     ]
    }
   ],
   "source": [
    "!pwd"
   ]
  },
  {
   "cell_type": "code",
   "execution_count": 168,
   "metadata": {},
   "outputs": [
    {
     "data": {
      "image/png": "[encoded data removed]",
      "text/plain": [
       "<Figure size 432x288 with 1 Axes>"
      ]
     },
     "metadata": {
      "needs_background": "light"
     },
     "output_type": "display_data"
    }
   ],
   "source": [
    "plot_group(ce_cp, amie_res_rel, label2='amie', mrr=False, bar=True)"
   ]
  },
  {
   "cell_type": "code",
   "execution_count": null,
   "metadata": {},
   "outputs": [],
   "source": []
  },
  {
   "cell_type": "code",
   "execution_count": null,
   "metadata": {},
   "outputs": [],
   "source": [
    "fig, ax = plt.subplots()\n",
    "ax.set(xscale=\"log\")\n",
    "sns.regplot(\"rel_occurrence\", \"MRR\", data, ax=ax, scatter_kws={\"s\": 100})"
   ]
  },
  {
   "cell_type": "code",
   "execution_count": 167,
   "metadata": {},
   "outputs": [
    {
     "data": {
      "image/png": "[encoded data removed]",
      "text/plain": [
       "<Figure size 432x288 with 1 Axes>"
      ]
     },
     "metadata": {
      "needs_background": "light"
     },
     "output_type": "display_data"
    }
   ],
   "source": [
    "plot_group(ce_tuck, bce_tuck, mrr=False, bar=True)"
   ]
  },
  {
   "cell_type": "code",
   "execution_count": 18,
   "metadata": {},
   "outputs": [
    {
     "data": {
      "text/html": [
       "<div>\n",
       "<style scoped>\n",
       "    .dataframe tbody tr th:only-of-type {\n",
       "        vertical-align: middle;\n",
       "    }\n",
       "\n",
       "    .dataframe tbody tr th {\n",
       "        vertical-align: top;\n",
       "    }\n",
       "\n",
       "    .dataframe thead th {\n",
       "        text-align: right;\n",
       "    }\n",
       "</style>\n",
       "<table border=\"1\" class=\"dataframe\">\n",
       "  <thead>\n",
       "    <tr style=\"text-align: right;\">\n",
       "      <th></th>\n",
       "      <th>0</th>\n",
       "      <th>1</th>\n",
       "      <th>2</th>\n",
       "    </tr>\n",
       "  </thead>\n",
       "  <tbody>\n",
       "    <tr>\n",
       "      <th>16518</th>\n",
       "      <td>6739</td>\n",
       "      <td>26</td>\n",
       "      <td>428</td>\n",
       "    </tr>\n",
       "    <tr>\n",
       "      <th>57208</th>\n",
       "      <td>1600</td>\n",
       "      <td>26</td>\n",
       "      <td>2295</td>\n",
       "    </tr>\n",
       "    <tr>\n",
       "      <th>68249</th>\n",
       "      <td>5048</td>\n",
       "      <td>26</td>\n",
       "      <td>621</td>\n",
       "    </tr>\n",
       "    <tr>\n",
       "      <th>72829</th>\n",
       "      <td>2295</td>\n",
       "      <td>26</td>\n",
       "      <td>1600</td>\n",
       "    </tr>\n",
       "    <tr>\n",
       "      <th>93193</th>\n",
       "      <td>1674</td>\n",
       "      <td>26</td>\n",
       "      <td>5154</td>\n",
       "    </tr>\n",
       "    <tr>\n",
       "      <th>128067</th>\n",
       "      <td>9519</td>\n",
       "      <td>26</td>\n",
       "      <td>6216</td>\n",
       "    </tr>\n",
       "    <tr>\n",
       "      <th>139482</th>\n",
       "      <td>265</td>\n",
       "      <td>26</td>\n",
       "      <td>4369</td>\n",
       "    </tr>\n",
       "    <tr>\n",
       "      <th>148065</th>\n",
       "      <td>1783</td>\n",
       "      <td>26</td>\n",
       "      <td>625</td>\n",
       "    </tr>\n",
       "    <tr>\n",
       "      <th>165674</th>\n",
       "      <td>1424</td>\n",
       "      <td>26</td>\n",
       "      <td>5259</td>\n",
       "    </tr>\n",
       "    <tr>\n",
       "      <th>178414</th>\n",
       "      <td>871</td>\n",
       "      <td>26</td>\n",
       "      <td>176</td>\n",
       "    </tr>\n",
       "    <tr>\n",
       "      <th>196520</th>\n",
       "      <td>7765</td>\n",
       "      <td>26</td>\n",
       "      <td>9519</td>\n",
       "    </tr>\n",
       "    <tr>\n",
       "      <th>216202</th>\n",
       "      <td>5048</td>\n",
       "      <td>26</td>\n",
       "      <td>1468</td>\n",
       "    </tr>\n",
       "    <tr>\n",
       "      <th>243362</th>\n",
       "      <td>5259</td>\n",
       "      <td>26</td>\n",
       "      <td>1424</td>\n",
       "    </tr>\n",
       "    <tr>\n",
       "      <th>248250</th>\n",
       "      <td>625</td>\n",
       "      <td>26</td>\n",
       "      <td>1783</td>\n",
       "    </tr>\n",
       "    <tr>\n",
       "      <th>272936</th>\n",
       "      <td>1731</td>\n",
       "      <td>26</td>\n",
       "      <td>103</td>\n",
       "    </tr>\n",
       "    <tr>\n",
       "      <th>272963</th>\n",
       "      <td>431</td>\n",
       "      <td>26</td>\n",
       "      <td>621</td>\n",
       "    </tr>\n",
       "    <tr>\n",
       "      <th>273155</th>\n",
       "      <td>1468</td>\n",
       "      <td>26</td>\n",
       "      <td>5048</td>\n",
       "    </tr>\n",
       "    <tr>\n",
       "      <th>311814</th>\n",
       "      <td>3418</td>\n",
       "      <td>26</td>\n",
       "      <td>291</td>\n",
       "    </tr>\n",
       "    <tr>\n",
       "      <th>316881</th>\n",
       "      <td>176</td>\n",
       "      <td>26</td>\n",
       "      <td>871</td>\n",
       "    </tr>\n",
       "    <tr>\n",
       "      <th>338747</th>\n",
       "      <td>5154</td>\n",
       "      <td>26</td>\n",
       "      <td>1674</td>\n",
       "    </tr>\n",
       "    <tr>\n",
       "      <th>369187</th>\n",
       "      <td>621</td>\n",
       "      <td>26</td>\n",
       "      <td>431</td>\n",
       "    </tr>\n",
       "    <tr>\n",
       "      <th>404361</th>\n",
       "      <td>7765</td>\n",
       "      <td>26</td>\n",
       "      <td>6216</td>\n",
       "    </tr>\n",
       "    <tr>\n",
       "      <th>406623</th>\n",
       "      <td>6216</td>\n",
       "      <td>26</td>\n",
       "      <td>7765</td>\n",
       "    </tr>\n",
       "    <tr>\n",
       "      <th>425133</th>\n",
       "      <td>621</td>\n",
       "      <td>26</td>\n",
       "      <td>5048</td>\n",
       "    </tr>\n",
       "  </tbody>\n",
       "</table>\n",
       "</div>"
      ],
      "text/plain": [
       "           0   1     2\n",
       "16518   6739  26   428\n",
       "57208   1600  26  2295\n",
       "68249   5048  26   621\n",
       "72829   2295  26  1600\n",
       "93193   1674  26  5154\n",
       "128067  9519  26  6216\n",
       "139482   265  26  4369\n",
       "148065  1783  26   625\n",
       "165674  1424  26  5259\n",
       "178414   871  26   176\n",
       "196520  7765  26  9519\n",
       "216202  5048  26  1468\n",
       "243362  5259  26  1424\n",
       "248250   625  26  1783\n",
       "272936  1731  26   103\n",
       "272963   431  26   621\n",
       "273155  1468  26  5048\n",
       "311814  3418  26   291\n",
       "316881   176  26   871\n",
       "338747  5154  26  1674\n",
       "369187   621  26   431\n",
       "404361  7765  26  6216\n",
       "406623  6216  26  7765\n",
       "425133   621  26  5048"
      ]
     },
     "execution_count": 18,
     "metadata": {},
     "output_type": "execute_result"
    }
   ],
   "source": [
    "train_data[train_data[1] == 26]"
   ]
  },
  {
   "cell_type": "code",
   "execution_count": 19,
   "metadata": {},
   "outputs": [],
   "source": [
    "test_data = pd.DataFrame(d.data['test'])"
   ]
  },
  {
   "cell_type": "code",
   "execution_count": 11,
   "metadata": {},
   "outputs": [
    {
     "data": {
      "text/plain": [
       "'As'"
      ]
     },
     "execution_count": 11,
     "metadata": {},
     "output_type": "execute_result"
    }
   ],
   "source": [
    "d.rel_mappings.inverse[26]"
   ]
  },
  {
   "cell_type": "code",
   "execution_count": 7,
   "metadata": {},
   "outputs": [
    {
     "ename": "ModuleNotFoundError",
     "evalue": "No module named 'seaborn'",
     "output_type": "error",
     "traceback": [
      "\u001b[0;31m\u001b[0m",
      "\u001b[0;31mModuleNotFoundError\u001b[0mTraceback (most recent call last)",
      "\u001b[0;32m<ipython-input-7-a84c0541e888>\u001b[0m in \u001b[0;36m<module>\u001b[0;34m\u001b[0m\n\u001b[0;32m----> 1\u001b[0;31m \u001b[0;32mimport\u001b[0m \u001b[0mseaborn\u001b[0m \u001b[0;32mas\u001b[0m \u001b[0msns\u001b[0m\u001b[0;34m\u001b[0m\u001b[0;34m\u001b[0m\u001b[0m\n\u001b[0m",
      "\u001b[0;31mModuleNotFoundError\u001b[0m: No module named 'seaborn'"
     ]
    }
   ],
   "source": [
    "import seaborn as sns"
   ]
  },
  {
   "cell_type": "code",
   "execution_count": 27,
   "metadata": {},
   "outputs": [
    {
     "data": {
      "text/plain": [
       "27"
      ]
     },
     "execution_count": 27,
     "metadata": {},
     "output_type": "execute_result"
    }
   ],
   "source": [
    "len(ce_cp['Relation'].unique())"
   ]
  },
  {
   "cell_type": "code",
   "execution_count": 29,
   "metadata": {},
   "outputs": [
    {
     "data": {
      "text/plain": [
       "0.16646301808672911"
      ]
     },
     "execution_count": 29,
     "metadata": {},
     "output_type": "execute_result"
    }
   ],
   "source": [
    "ce_cp['MRR'].mean()"
   ]
  },
  {
   "cell_type": "code",
   "execution_count": 20,
   "metadata": {},
   "outputs": [
    {
     "data": {
      "text/plain": [
       "0.21708837835383787"
      ]
     },
     "execution_count": 20,
     "metadata": {},
     "output_type": "execute_result"
    }
   ],
   "source": [
    "bce_cp['MRR'].mean() * 2"
   ]
  },
  {
   "cell_type": "code",
   "execution_count": 8,
   "metadata": {},
   "outputs": [
    {
     "data": {
      "text/plain": [
       "0.17666576785955992"
      ]
     },
     "execution_count": 8,
     "metadata": {},
     "output_type": "execute_result"
    }
   ],
   "source": [
    "bce_cp['h@10'].mean()"
   ]
  },
  {
   "cell_type": "code",
   "execution_count": 9,
   "metadata": {},
   "outputs": [
    {
     "data": {
      "text/plain": [
       "0.27234314795580067"
      ]
     },
     "execution_count": 9,
     "metadata": {},
     "output_type": "execute_result"
    }
   ],
   "source": [
    "ce_cp['h@10'].mean()"
   ]
  },
  {
   "cell_type": "code",
   "execution_count": 11,
   "metadata": {},
   "outputs": [
    {
     "data": {
      "text/plain": [
       "1.3514506059493205"
      ]
     },
     "execution_count": 11,
     "metadata": {},
     "output_type": "execute_result"
    }
   ],
   "source": [
    "0.368/0.2723"
   ]
  },
  {
   "cell_type": "code",
   "execution_count": 14,
   "metadata": {},
   "outputs": [
    {
     "data": {
      "text/plain": [
       "1.6481481481481481"
      ]
     },
     "execution_count": 14,
     "metadata": {},
     "output_type": "execute_result"
    }
   ],
   "source": [
    "0.178/0.108"
   ]
  },
  {
   "cell_type": "code",
   "execution_count": 10,
   "metadata": {},
   "outputs": [
    {
     "data": {
      "text/plain": [
       "(27, 5)"
      ]
     },
     "execution_count": 10,
     "metadata": {},
     "output_type": "execute_result"
    }
   ],
   "source": [
    "ce_cp.shape"
   ]
  },
  {
   "cell_type": "code",
   "execution_count": null,
   "metadata": {},
   "outputs": [],
   "source": []
  }
 ],
 "metadata": {
  "kernelspec": {
   "display_name": "nina",
   "language": "python",
   "name": "nina"
  },
  "language_info": {
   "codemirror_mode": {
    "name": "ipython",
    "version": 3
   },
   "file_extension": ".py",
   "mimetype": "text/x-python",
   "name": "python",
   "nbconvert_exporter": "python",
   "pygments_lexer": "ipython3",
   "version": "3.7.6"
  }
 },
 "nbformat": 4,
 "nbformat_minor": 4
}
